{
 "cells": [
  {
   "cell_type": "markdown",
   "id": "ea2cf3b6-8128-4170-bcd1-6889043c1bc6",
   "metadata": {},
   "source": [
    "## Setup Notebook\n",
    "This notebook is designed to configure your VM to have the proper tools and data in place to run the transcriptome assembly training module.\n",
    "\n",
    "We start by updating the system, and installing java, which is needed for Nextflow"
   ]
  },
  {
   "cell_type": "code",
   "execution_count": null,
   "id": "be0fb298-b8ff-4f5f-b21b-90d9796f11e1",
   "metadata": {},
   "outputs": [],
   "source": [
    "#First install java\n",
    "!sudo apt update\n",
    "!sudo apt-get install default-jdk -y\n",
    "!java -version"
   ]
  },
  {
   "cell_type": "markdown",
   "id": "7b3ffb16-3395-4c01-9774-ee568e815490",
   "metadata": {},
   "source": [
    "Install Mambaforge, which is needed for the supporting information for the TransPi databases."
   ]
  },
  {
   "cell_type": "code",
   "execution_count": null,
   "id": "ac5b204a-f0db-4ceb-bf37-57eca6d77974",
   "metadata": {},
   "outputs": [],
   "source": [
    "!curl -L -O https://github.com/conda-forge/miniforge/releases/latest/download/Mambaforge-$(uname)-$(uname -m).sh\n",
    "!bash Mambaforge-$(uname)-$(uname -m).sh -b -p $HOME/mambaforge\n",
    "!~/mambaforge/bin/mamba install -c bioconda sra-tools perl-dbd-sqlite perl-dbi -y"
   ]
  },
  {
   "cell_type": "markdown",
   "id": "cf81f0b0-242d-4637-aaa8-559a69384cd4",
   "metadata": {},
   "source": [
    "Install the program \"bc\" a calculator used in the TransPi.nf script"
   ]
  },
  {
   "cell_type": "code",
   "execution_count": null,
   "id": "56504cf5-489e-4424-b87b-b1b9654dde7e",
   "metadata": {},
   "outputs": [],
   "source": [
    "!sudo apt-get install -y bc"
   ]
  },
  {
   "cell_type": "markdown",
   "id": "97c986e5-30f7-4b7d-8523-34f772b2674d",
   "metadata": {},
   "source": [
    "Create a variable that holds the base working directory (your current position) for later use in file paths.  "
   ]
  },
  {
   "cell_type": "code",
   "execution_count": null,
   "id": "0edfc05e-27ff-4f89-82a3-085244dc199e",
   "metadata": {},
   "outputs": [],
   "source": [
    "import subprocess\n",
    "workdir=subprocess.check_output(\"pwd\").decode(\"utf-8\").rstrip()\n",
    "workdir"
   ]
  },
  {
   "cell_type": "markdown",
   "id": "9089dc5d-baa8-45af-b7a1-1173ce33e419",
   "metadata": {},
   "source": [
    "Also create a variable to hold the address of the Google Bucket that holds materials for download"
   ]
  },
  {
   "cell_type": "code",
   "execution_count": null,
   "id": "24682da2-cd07-430c-9c95-2cf415cbbed5",
   "metadata": {},
   "outputs": [],
   "source": [
    "gbucket=\"gs://nigms-sandbox/nosi-inbremaine-storage\"\n",
    "gbucket"
   ]
  },
  {
   "cell_type": "markdown",
   "id": "87bb745c-b465-498d-8f62-95199fc37b4d",
   "metadata": {},
   "source": [
    "Clone the TransPi repository from github"
   ]
  },
  {
   "cell_type": "code",
   "execution_count": null,
   "id": "d7409cc1-540d-42ba-b195-dd2979929fb8",
   "metadata": {},
   "outputs": [],
   "source": [
    "!git clone https://github.com/PalMuc/TransPi.git"
   ]
  },
  {
   "cell_type": "markdown",
   "id": "e6de4f4e-5791-4ea8-8246-2975e693f9d8",
   "metadata": {},
   "source": [
    "We have made some changes in TransPi, so download from our GS bucket, renaming and keeping the old file."
   ]
  },
  {
   "cell_type": "code",
   "execution_count": null,
   "id": "d549e2a0-9227-4bd2-b546-2e0b618eb4dc",
   "metadata": {},
   "outputs": [],
   "source": [
    "!mv TransPi/TransPi.nf TransPi/old.TransPi.nf\n",
    "!gsutil cp $gbucket/TransPi/TransPi.nf ./\n",
    "%mv TransPi.nf TransPi/TransPi.nf"
   ]
  },
  {
   "cell_type": "markdown",
   "id": "1cf44435-049b-40b6-9572-7fb4fb8deb9c",
   "metadata": {},
   "source": [
    "Retrieve that uniprot_sprot fasta file for use as the \"custom database\" for annotation purposes.  We install it in its own directory in order to enable automation of the precheck_Transpi.sh script"
   ]
  },
  {
   "cell_type": "code",
   "execution_count": null,
   "id": "34d2ad67-761e-426a-9de1-0f559ac7924b",
   "metadata": {},
   "outputs": [],
   "source": [
    "!gsutil cp -r $gbucket/DBs/uniprot_db/ ./"
   ]
  },
  {
   "cell_type": "markdown",
   "id": "1c9f59e1-4883-4cbd-9e26-8df2ac88d0d8",
   "metadata": {},
   "source": [
    "Create the input string to check against for use with the pre_check script"
   ]
  },
  {
   "cell_type": "code",
   "execution_count": null,
   "id": "2ce84e8c-e01e-4562-92a9-2176cf2147d9",
   "metadata": {},
   "outputs": [],
   "source": [
    "input_string=\"2\\ny\\n2\\n6\\n1\\n2\\n\" + workdir + \"/uniprot_db/\\n1\\ny\\n\"\n",
    "input_string"
   ]
  },
  {
   "cell_type": "markdown",
   "id": "0348bf4d-42ba-427d-8afe-681d83ad7215",
   "metadata": {},
   "source": [
    "Run the TransPi setup script \"precheck_TransPi.sh\" -- this is normally an interactive script, but we are providing it with a set of answers with the string shown below.  \n",
    "\n",
    "***VERY IMPORTANT*** There is a hard-coded directory in the middle of the string that points to */home/jupyter/nosi-mdibl-inbrecloud/uniprot_db/*  This is the default that we are expecting assuming that you are working within the cloned directory.  \n",
    "\n",
    "The output just above this cell should look exactly the same as the string below.  If it doesn't, edit the string below to match that above."
   ]
  },
  {
   "cell_type": "code",
   "execution_count": null,
   "id": "e935dd12-8e28-450f-a1d7-b1d1a6d07166",
   "metadata": {},
   "outputs": [],
   "source": [
    "%cd $workdir/TransPi\n",
    "!bash ./precheck_TransPi.sh ./ <<< $'2\\ny\\n2\\n6\\n1\\n2\\n/home/jupyter/nosi-mdibl-inbrecloud/uniprot_db/\\n1\\ny\\n'"
   ]
  },
  {
   "cell_type": "markdown",
   "id": "689ebf63-08bb-4da6-b4c1-f4107989fc6b",
   "metadata": {},
   "source": [
    "***NOTE*** Sometimes the webservers that the script above uses are offline, which will hang the process and fail to complete installation.  If that happens to you, halt the process (use the stop button at the top).  Unfortunately, the script doesn't fail in a manner that allows it to be easily re-started, so you should create a new code cell below this markdown cell and then execute the following commands (in sequence).\n",
    ">1. %cd \\$workdir/TransPi/\n",
    ">2. !gsutil -m cp -r \\$gbucket/TransPi_DB_info/scripts/ ./\n",
    ">3. !chmod --recursive a+x scripts/evigene\n",
    ">4. !gsutil -m cp -r \\$gbucket/TransPi_DB_info/DBs/ ./\n",
    ">5. !cd ..\n",
    ">6. !gsutil -m cp -r \\$gbucket/TransPi_DB_info/nextflow ./\n",
    ">7. !chmod a+x nextflow\n",
    "\n",
    "***Also NOTE*** because of the use of markdown and a local environment variable, the raw markdown code in this cell includes a leading backslash (\\\\) that makes the markdown appear correctly, but that will not work if it is included in the command line argument.  So for example, the first line above should be executed as <pre>%cd $workdir/TransPi/</pre> rather than <pre>%cd \\\\$workdir/TransPi/</pre>"
   ]
  },
  {
   "cell_type": "markdown",
   "id": "c632bcb4-aa2f-44b0-8ef0-125653859057",
   "metadata": {},
   "source": [
    "Put an executable copy of the nexflow program into the executable path at /usr/local/bin/"
   ]
  },
  {
   "cell_type": "code",
   "execution_count": null,
   "id": "079776f7-c40f-4530-87c1-49fd778a735e",
   "metadata": {},
   "outputs": [],
   "source": [
    "!sudo cp $workdir/TransPi/nextflow /usr/local/bin/nextflow\n",
    "!sudo chmod a+rx /usr/local/bin/nextflow"
   ]
  },
  {
   "cell_type": "markdown",
   "id": "fcbea9fd-4a23-4d10-83d2-d36fd716d722",
   "metadata": {},
   "source": [
    "Explicitly copy the sprot file into place, as the precheck script sometimes doesn't do so"
   ]
  },
  {
   "cell_type": "code",
   "execution_count": null,
   "id": "9aaa1ecc-764d-4c34-bb1d-e646009589dd",
   "metadata": {},
   "outputs": [],
   "source": [
    "!cp $workdir/uniprot_db/uniprot_sprot.fasta $workdir/TransPi/DBs/uniprot_db/"
   ]
  },
  {
   "cell_type": "markdown",
   "id": "d5d32249-81d9-4f3a-a743-1832ee87a6f6",
   "metadata": {},
   "source": [
    "Make a directory in which to carry out the work"
   ]
  },
  {
   "cell_type": "code",
   "execution_count": null,
   "id": "32a86a74-ace6-4d8c-b854-50043a15f12e",
   "metadata": {},
   "outputs": [],
   "source": [
    "!mkdir $workdir/transpi_example\n",
    "%cd $workdir/transpi_example\n",
    "#copy the test sequences from the GS bucket (the -m argument allows for parallel transfer)\n",
    "!gsutil -m cp -r $gbucket/seq2 ./"
   ]
  }
 ],
 "metadata": {
  "environment": {
   "kernel": "python3",
   "name": "common-cpu.m100",
   "type": "gcloud",
   "uri": "gcr.io/deeplearning-platform-release/base-cpu:m100"
  },
  "kernelspec": {
   "display_name": "Python 3",
   "language": "python",
   "name": "python3"
  },
  "language_info": {
   "codemirror_mode": {
    "name": "ipython",
    "version": 3
   },
   "file_extension": ".py",
   "mimetype": "text/x-python",
   "name": "python",
   "nbconvert_exporter": "python",
   "pygments_lexer": "ipython3",
   "version": "3.7.12"
  }
 },
 "nbformat": 4,
 "nbformat_minor": 5
}
