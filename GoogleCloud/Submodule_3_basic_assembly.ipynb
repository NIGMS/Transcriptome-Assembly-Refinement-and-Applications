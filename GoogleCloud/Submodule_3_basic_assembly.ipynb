{
 "cells": [
  {
   "cell_type": "markdown",
   "id": "5ca59a71",
   "metadata": {},
   "source": [
    "# MDIBL Transcriptome Assembly Learning Module\n",
    "# Notebook 3: Performing a \"Standard\" basic transcriptome assembly\n",
    "\n",
    "## Overview\n",
    "\n",
    "This notebook will run `denovotranscript` Nextflow pipeline utilizing Google Batch. It is a bioinformatics pipeline for de novo transcriptome assembly of paired-end short reads from bulk RNA-seq. It takes a samplesheet and FASTQ files as input, perfoms quality control (QC), trimming, assembly, redundancy reduction, pseudoalignment, and quantification. It outputs a transcriptome assembly FASTA file, a transcript abundance TSV file, and a MultiQC report with assembly quality and read QC metrics.\n",
    "\n",
    "> <img src=\"../images/denovo-workflow.png\" width=\"1500\">\n",
    "\n",
    "1. Read QC of raw reads (FastQC)\n",
    "\n",
    "2. Adapter and quality trimming (fastp)\n",
    "\n",
    "3. Read QC of trimmed reads (FastQC)\n",
    "\n",
    "4. Remove rRNA or mitochondrial DNA (optional) (SortMeRNA)\n",
    "\n",
    "5. Transcriptome assembly using any combination of the following:\n",
    "    - Trinity with normalised reads (default=True)\n",
    "    - Trinity with non-normalised reads\n",
    "    - rnaSPAdes medium filtered transcripts outputted (default=True)\n",
    "    - rnaSPAdes soft filtered transcripts outputted\n",
    "    - rnaSPAdes hard filtered transcripts outputted\n",
    "\n",
    "6. Redundancy reduction with Evidential Gene tr2aacds. A transcript to gene mapping is produced from Evidential Gene’s outputs using gawk.\n",
    "\n",
    "7. Assembly completeness QC (BUSCO)\n",
    "\n",
    "8. Other assembly quality metrics (rnaQUAST)\n",
    "\n",
    "9. Transcriptome quality assessment with TransRate, including the use of reads for assembly evaluation. This step is not performed if profile is set to conda or mamba.\n",
    "\n",
    "10. Pseudo-alignment and quantification (Salmon)\n",
    "\n",
    "11. HTML report for raw reads, trimmed reads, BUSCO, and Salmon (MultiQC)\n"
   ]
  },
  {
   "cell_type": "markdown",
   "id": "9095525f",
   "metadata": {},
   "source": [
    "## Prerequisites\n",
    "\n",
    "**1. Software/Environment:**\n",
    "\n",
    "*   Jupyter Notebook in Google Could Vertex AI (Python kernel)\n",
    "*   Google Cloud CLI (configured)\n",
    "*   Nextflow (installed via `mamba`)\n",
    "*   `jupytercards` (install via `pip`)\n",
    "\n",
    "**2. Enabled APIs:**\n",
    "\n",
    "*   Google Batch\n",
    "*   Google Storage"
   ]
  },
  {
   "cell_type": "markdown",
   "id": "7be8ab78",
   "metadata": {},
   "source": [
    "## Learning Objectives\n",
    "\n"
   ]
  },
  {
   "cell_type": "markdown",
   "id": "6cd0f4f2-5559-4675-9e97-24b0548b31af",
   "metadata": {},
   "source": [
    "## Get Started "
   ]
  },
  {
   "cell_type": "markdown",
   "id": "802a2e3f",
   "metadata": {},
   "source": [
    "### **Step 1:** Data\n",
    "\n",
    "The data used for this notebook is stored in a public Google cloud storage bucket: `gs://nigms-sandbox/nosi-inbremaine-storage/resources`. While you *could* download the data to your local machine for more detailed inspection, as you did in submodule-2, it is not *required*."
   ]
  },
  {
   "cell_type": "markdown",
   "id": "9cdebe3b",
   "metadata": {},
   "source": [
    "First, check the listings within the `resources directory`. Make sure you see the items listed below:\n",
    "```\n",
    "DBs  bin  conf  seq2  trans\n",
    "```"
   ]
  },
  {
   "cell_type": "code",
   "execution_count": null,
   "id": "4233ecb6",
   "metadata": {},
   "outputs": [],
   "source": [
    "! gsutil ls gs://nigms-sandbox/nosi-inbremaine-storage/resources/"
   ]
  },
  {
   "cell_type": "markdown",
   "id": "a53eab4f",
   "metadata": {},
   "source": [
    "Now, check the listing of the sequence directory: `seq2`. You should see seven pairs of gzipped fastq files (signified by the paired `.fastq.gz` naming). Six of these are for individual samples, and the seventh set, labeled **joined** is a concatenation of all files. Because of the way that denovotrascript works (as well as some of the programs that it uses), it's best to use a joined set of all sequences to make a unified transcriptome assembly."
   ]
  },
  {
   "cell_type": "code",
   "execution_count": null,
   "id": "6b57a6e7",
   "metadata": {},
   "outputs": [],
   "source": [
    "! gsutil ls gs://nigms-sandbox/nosi-inbremaine-storage/resources/seq2/"
   ]
  },
  {
   "cell_type": "markdown",
   "id": "c9c2d32c",
   "metadata": {},
   "source": [
    "### **Step 2:** Google Batch Setup\n",
    "\n",
    "Google Batch will create the needed resources to run Nextflow in a serverless manner. "
   ]
  },
  {
   "cell_type": "markdown",
   "id": "79f5685f",
   "metadata": {},
   "source": [
    "#### Change the parameters as desired in `gbatch` profile inside `../denovotrascript/nextflow.config` file\n",
    " - Google Cloud project ID\n",
    " - Google Cloud region \n",
    " - Nextflow work directory\n",
    " - Nextflow output directory"
   ]
  },
  {
   "cell_type": "markdown",
   "id": "2066dff2",
   "metadata": {},
   "source": [
    "### **Step 3:** Install Nextflow"
   ]
  },
  {
   "cell_type": "code",
   "execution_count": null,
   "id": "3b8a2fbc",
   "metadata": {},
   "outputs": [],
   "source": [
    "%%capture\n",
    "! mamba create  -n nextflow -c bioconda nextflow -y\n",
    "! mamba install -n nextflow ipykernel -y"
   ]
  },
  {
   "cell_type": "code",
   "execution_count": null,
   "id": "ababdf36",
   "metadata": {},
   "outputs": [],
   "source": [
    "# Add nextflow to the PATH\n",
    "import os\n",
    "os.environ['PATH'] = '/opt/conda/envs/nextflow/bin:' + os.environ['PATH']"
   ]
  },
  {
   "cell_type": "markdown",
   "id": "f95ff84c",
   "metadata": {},
   "source": [
    "### **Step 4:** Run `denovotranscript`"
   ]
  },
  {
   "cell_type": "code",
   "execution_count": null,
   "id": "32a651d6",
   "metadata": {},
   "outputs": [],
   "source": [
    "! nextflow run ../denovotranscript/main.nf --input ../denovotranscript/test_samplesheet_gcp.csv -profile gbatch --run_mode full"
   ]
  },
  {
   "cell_type": "markdown",
   "id": "4a8f2ead",
   "metadata": {},
   "source": [
    "The beauty and power of using a defined workflow in a management system (such as Nextflow) are that we not only get a defined set of steps that are carried out in the proper order, but we also get a well-structured and concise directory structure that holds all pertinent output."
   ]
  },
  {
   "cell_type": "markdown",
   "id": "92ed51eb",
   "metadata": {},
   "source": [
    "With the execution complete, let's look at what we have generated, first in the results directory."
   ]
  },
  {
   "cell_type": "code",
   "execution_count": null,
   "id": "11f62479",
   "metadata": {},
   "outputs": [],
   "source": [
    "! gsutil ls gs://<YOUR-BUCKET-NAME>/<Your-Output-Directory>/"
   ]
  },
  {
   "cell_type": "markdown",
   "id": "44d927ba-6916-47b5-8edf-1cc58d585f78",
   "metadata": {},
   "source": [
    "## Investigation and Exploration: Assembly and Annotation Results\n",
    "The use of an established and complex multi-step workflow (such as the de novo transcriptome assembly workflow that you just ran) has the benefit of saving you a lot of manual effort in setting up and carrying out the individual steps yourself. It also is highly reproducible, given the same input data and parameters.\n",
    "\n",
    "It does, however, generate a lot of output, and it is beyond the scope of this training exercise to go through all of it in detail. We recommend that you download the complete results directory onto another machine or storage so that you can view it at your convenience, and on a less expensive machine than you are using to run this tutorial. *If you would like the proceed with the data in its current location, this also works, just bear in mind that it will cost roughly $0.72 per hour.*\n",
    "\n",
    "<div class=\"alert alert-block alert-success\">\n",
    "    <i class=\"fa fa-hand-paper-o\" aria-hidden=\"true\"></i>\n",
    "    <b>Note: </b>  To Download...\n",
    "</div>\n",
    "\n",
    ">Here are two possible options to access the results files outside of this expensive JupyterLab instance.  \n",
    ">- If you instead have an external machine that accepts ssh connections, then you can use the secure copy scp command: `!scp -r ./basicRun/output/YOUR_USERID@YOUR.MACHINE`\n",
    ">- If you have a Google Cloud Storage bucket available, you can use the gsutil command: `!gsutil -m cp -r ./basicRun/output gs://<YOUR-BUCKET-NAME-HERE>/<Your-Output-Directory>` to place all of your results into that bucket. \n",
    ">    - From there you have two options: \n",
    ">         1. (Recommended) You could create a new (cheaper) Vertex AI instance (or use an old one) and copy the files down into that new directory using the following gsutil command:`!gsutil -m cp -r gs://<YOUR-BUCKET-NAME-HERE>/<Your-Output-Directory> ./`\n",
    ">         2. You could navigate to the bucket through the Google Cloud console and open the files through the links labeled `Authenticated URL`\n",
    ">\n",
    ">**In all of the commands above, you will need to edit the All-Caps part or part within <> to match your own bucket or machine.**\n",
    "\n",
    "<div class=\"alert alert-block alert-info\">\n",
    "    <i class=\"fa fa-lightbulb-o\" aria-hidden=\"true\"></i>\n",
    "    <b>Tip: </b>\n",
    "</div>\n",
    "\n",
    "> - **After you have the output directory in its desired location, consider the information in the cell below as you explore the output.**\n",
    "> - **If you are viewing the output in a different location, consider copying or taking a screenshot of the cell below.**\n",
    "> - **Make sure that if you are viewing your output in a different location, you save your notebooks here, and then stop the VM instance, or it will keep costing money.**\n",
    "> - **Upon completion of your exploration, return to this submodule to complete the checkpoint quiz.**"
   ]
  },
  {
   "cell_type": "markdown",
   "id": "895c027e-edaf-4f96-9502-c4e4cfd67471",
   "metadata": {},
   "source": [
    "## Output Overview\n",
    "*These sub-directories will be mentioned in the order of their execution within the  de novo transcriptome assembly pipeline.*\n",
    "\n",
    "<div class=\"alert alert-block alert-success\">\n",
    "    <i class=\"fa fa-hand-paper-o\" aria-hidden=\"true\"></i>\n",
    "    <b>Note: </b>  HTML files\n",
    "</div>\n",
    "\n",
    ">**If you are viewing your output within a JupyterLab VM instance, for the `.html` files to work correctly, you will need to select `Trust HTML` at the top of the screen.** This is due to the dynamic elements within the files.\n",
    "\n",
    "### FastQC\n",
    "> FastQC takes the raw read files and runs a swift analysis of the read data. The two key output files are `joined_R1_fastqc.html` and `joined_R2_fastqc.html` which provide a visual illustration of the read quality metrics. It is important to note that FastQC does not manipulate the data for further steps, it just outputs an analysis of the data quality.\n",
    "\n",
    "### Filter\n",
    "> FastP is a bioinformatics tool that preprocesses the raw read data. It trims poor-quality reads, removes adapter sequences, and corrects errors noticed within the reads. The `joined.fastp.html` provides an overview of the processing done on both read files.\n",
    "> SortMeRNA is an optional bioinformatics tool designed to efficiently remove ribosomal RNA (rRNA) and mitochondrial DNA from sequencing data. By filtering out these abundant and often unwanted sequences, SortMeRNA helps to enrich the dataset for more relevant RNA species, such as messenger RNA (mRNA) or other non-coding RNAs. This preprocessing step enhances downstream analyses, such as transcriptome profiling or differential expression studies, by reducing noise and improving the accuract of the results.\n",
    "\n",
    "### Assemblies\n",
    "> Transcriptome assembly is a critical step in RNA sequencing analysis, aimed at reconstructing the full set of transcripts from the sequenced reads. The denovo transcriptome assembly uses several tools and approaches for this purpose: \n",
    "\n",
    ">>\n",
    ">> - Trinity with Normalized Reads (default = True): Trinity is a widely-used tool for de novo transcriptome assembly. Using normalized reads helps to reduce computational burden and memory usage by adjusting the read coverage, leading to a more efficient and accurate assembly process. Trinity runs at a default k-mer size of 25, providing a single assembly output.\n",
    ">> - Trinity with Non-Normalized Reads: This approach uses raw read data without normalization. While it may require more computational resources, it can potentially capture low-abundance transcripts that might be lost during normalization. Like the normalized option, it runs at a default k-mer size of 25, resulting in one assembly output.\n",
    ">> - rnaSPAdes Medium Filtered Transcripts (default=True): rnaSPAdes is another powerful tool for transcriptome assembly. The medium filtering option balances sensitivity and specificity, providing a reliable set of assembled transcripts by removing some low-confidence sequences while retaining most of the true transcripts. This option generates four .fa files: one for each k-mer length and a compilation of all three.\n",
    ">> - rnaSPAdes Soft Filtered Transcripts: This option applies less stringent filtering criteria, which can be useful for capturing a broader range of transcripts, including those with lower confidence. It may be beneficial in exploratory analyses where sensitivity is prioritized. It also generates four .fa files as described above.\n",
    ">> - rnaSPAdes Hard Filtered Transcripts: This option applies more stringent filtering criteria, resulting in a high-confidence set of assembled transcripts. It is ideal for downstream applications where specificity and accuracy are critical, such as functional annotation or differential expression analysis. Similar to the other rnaSPAdes options, it generates four .fa files.\n",
    "\n",
    "### EviGene\n",
    "> At this point, we have a major overassembly of the transcriptome. We use a small piece of the EvidentialGene (EviGene) program known as tr2aacds which takes all of the assemblies and crunches them into a single, unified transcriptome. Within the evigene directory, there are two files: `joined.combined.fa` is all of the assemblies placed into the same file and`joined.combined.okay.fa` is the combined transcriptome after EviGene has reduced it down. In each header line, there is key information about the sequence.\n",
    ">> For example: `>SOAP.k17.C9429 58.0 evgclass=main,okay,match:SPADES.k43.NODE_313_length_1670_cov_12.047941_g161_i0,pct:100/100/.; aalen=392,75%,complete;`\n",
    ">>\n",
    ">> - This header indicates that this sequence was found in both the SOAP and SPADES assemblies.\n",
    ">> - The `eviclass=main` means that this sequence is the primary transcript, and there are alternates identified.\n",
    ">> - The `aalen=392` is the amino acid length of the sequence.\n",
    ">> - The `complete` means that it is a complete reading frame.\n",
    ">> - For more information on interpreting the headers from EviGene, reference the following [link](http://arthropods.eugenes.org/EvidentialGene/evigene/) in section 3.\n",
    "\n",
    "### BUSCO\n",
    "> BUSCO uses a database of known universal single-copy orthologs under a specific lineage (vertebrata in this case) and checks our assembled transcriptome for those sequences which it expects to find. To visualize BUSCO's results, refer to the `short_summary.specific.vertebrata_odb10.joined.TransPi.bus4.txt` and `short_summary.specific.vertebrata_odb10.joined.Trinity.bus4.txt` files.\n",
    "\n",
    "### rnaQUAST\n",
    "> rnaQUAST is another assembly assessment program. It provides statistics about the transcripts that have been produced. For a brief overview of the transcript statistics, refer to `joined_rnaQUAST.csv`.\n",
    "\n",
    "### TransDecoder \n",
    "> TransDecoder is a program that \"decodes\" the transcripts. First, it identifies open reading frames (ORFs). From there, it then will make predictions on what is likely to be coding regions. For statistics regarding TransDecoder, refer to the `joined_transdecoder.stats` file.\n",
    "\n",
    "### Trinotate\n",
    "> Trinotate uses the information regarding likely coding regions produced by TransDecoder to make predictions about potential protein function. It does this by cross-referencing the assembled transcripts to various databases such as pfam and hmmer. These annotations can be viewed in the `joined.trinotate_annotation_report.xls` file.\n",
    "\n",
    "### TransRate\n",
    "TransRate is a tool used for assessing the quality of transcriptome assemblies. It evaluates the accuracy and completeness of the assembled transcripts by mapping the original reads back to the assembly. This process helps identify misassemblies, incomplete transcripts, and other potential issues, providing a comprehensive quality score for the transcriptome. However, this step is not performed if the profile is set to conda or mamba. By using TransRate, researchers can ensure the reliability of their transcriptome data before proceeding to downstream analyses.\n",
    "\n",
    "### Salmon\n",
    "Salmon is a highly efficient tool for transcript quantification that uses a technique called pseudo-alignment. This approach allows for the rapid and accurate estimation of transcript abundance by mapping sequencing reads to a reference transcriptome without the need for full alignment. Salmon's lightweight and fast algorithm significantly reduces computational time and resources while maintaining high accuracy. It provides detailed quantification of transcript levels, which is essential for downstream analyses such as differential expression studies and gene expression profiling.\n",
    "\n",
    "### MultiQC\n",
    "MultiQC is a versatile tool that aggregates results from multiple bioinformatics analyses into a single, comprehensive HTML report. For this workflow, MultiQC compiles and visualizes quality control metrics for raw reads, trimmed reads, BUSCO (Benchmarking Universal Single-Copy Orthologs) assessments, and Salmon quantification results. This consolidated report provides an easy-to-navigate overview of the data quality and processing steps, facilitating quick identification of any issues and ensuring that the dataset is ready for downstream analyses.\n",
    "\n",
    "### pipeline_info\n",
    "> One of the benefits of using Nexflow and a well-defined pipeline/workflow is that when the run is completed, we get a high-level summary of the execution timeline and resources. Two key files within this sub-directory are `execution_timeline.html` and `execution_report.html`. In the `execution_timeline.html` file, you can see a graphic representation of the total execution time of the entire workflow, along with where in the process each of the programs was active. From this diagram, you can also infer the ***dependency*** ordering that is encoded into the de novo transcriptome workflow. For example, **`evigene`**, the program that integrates and refines the output of all of the assembly runs doesn't start until all of the assembly processes are complete. Within the `execution_report.html` file, you can get a view of the resources used and activities carried out by each process, including CPUs, RAM, input/output, container used, and more.\n",
    "\n",
    "### RUN-INFO.txt\n",
    "> `RUN-INFO.txt` provides the specific details of the run such as where the directories are and the versions of the various programs used."
   ]
  },
  {
   "cell_type": "code",
   "execution_count": null,
   "id": "e3dd8a45",
   "metadata": {},
   "outputs": [],
   "source": []
  },
  {
   "cell_type": "markdown",
   "id": "c372f902-6138-4217-86a8-4b0002f5f387",
   "metadata": {},
   "source": [
    "<div class=\"alert alert-block alert-warning\">\n",
    "    <i class=\"fa fa-pencil\" aria-hidden=\"true\"></i>\n",
    "    <b>Checkpoint 1:</b>\n",
    "</div>\n",
    "\n",
    "*The green cards below are interactive. Spend some time to consider the question and click on the card to check your answer.*"
   ]
  },
  {
   "cell_type": "code",
   "execution_count": null,
   "id": "d234a1c1-d73a-4120-894e-c2a76106dc1a",
   "metadata": {},
   "outputs": [],
   "source": [
    "# This is an install that you need to run once to allow the quizes to be functional.\n",
    "!pip install jupyterquiz\n",
    "!pip install jupytercards"
   ]
  },
  {
   "cell_type": "code",
   "execution_count": null,
   "id": "74e23c5b-a6e7-4ad7-b69c-7dc42fa9bf2a",
   "metadata": {},
   "outputs": [],
   "source": [
    "from jupytercards import display_flashcards\n",
    "display_flashcards('../quiz-material/02-cp1-1.json')"
   ]
  },
  {
   "cell_type": "code",
   "execution_count": null,
   "id": "5eeb7f1e-0dad-4743-a5fe-25b9501c478f",
   "metadata": {},
   "outputs": [],
   "source": [
    "display_flashcards('../quiz-material/02-cp1-2.json')"
   ]
  },
  {
   "cell_type": "markdown",
   "id": "b82f0b3a",
   "metadata": {},
   "source": [
    "## Conclusion\n",
    "\n"
   ]
  },
  {
   "cell_type": "markdown",
   "id": "b68484f3",
   "metadata": {},
   "source": [
    "## Clean Up\n",
    "\n",
    "Shut down your instance if you are finished."
   ]
  }
 ],
 "metadata": {
  "kernelspec": {
   "display_name": "conda_python3",
   "language": "python",
   "name": "conda_python3"
  },
  "language_info": {
   "codemirror_mode": {
    "name": "ipython",
    "version": 3
   },
   "file_extension": ".py",
   "mimetype": "text/x-python",
   "name": "python",
   "nbconvert_exporter": "python",
   "pygments_lexer": "ipython3",
   "version": "3.10.16"
  }
 },
 "nbformat": 4,
 "nbformat_minor": 5
}
