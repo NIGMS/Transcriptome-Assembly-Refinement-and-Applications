{
 "cells": [
  {
   "cell_type": "markdown",
   "id": "ea2cf3b6-8128-4170-bcd1-6889043c1bc6",
   "metadata": {},
   "source": [
    "# MDIBL Transcriptome Assembly Learning Module\n",
    "# Notebook 1: Setup"
   ]
  },
  {
   "cell_type": "markdown",
   "id": "f62d616c",
   "metadata": {},
   "source": [
    "## Overview\n",
    "\n",
    "This notebook is designed to configure your virtual machine (VM) to have the proper tools and data in place to run the transcriptome assembly training module."
   ]
  },
  {
   "cell_type": "markdown",
   "id": "60145056",
   "metadata": {},
   "source": [
    "## Learning Objectives\n",
    "\n",
    "1. **Understand and utilize shell commands within Jupyter Notebooks:**  The notebook explicitly teaches the difference between `!` and `%` prefixes for executing shell commands, and how to navigate directories using `cd` and `pwd`.\n",
    "\n",
    "2. **Set up the necessary software:** Students will install and configure essential tools including:\n",
    "    * Java (a prerequisite for Nextflow).\n",
    "    * Mambaforge (a package manager for bioinformatics tools).\n",
    "    *  `sra-tools`, `perl-dbd-sqlite`, and `perl-dbi` (specific bioinformatics packages).\n",
    "    * Nextflow (a workflow management system).\n",
    "    *  `gsutil` (for interacting with Google Cloud Storage).\n",
    "\n",
    "3. **Download and organize necessary data:** Students will download the TransPi transcriptome assembly software and its associated resources (databases, scripts, configuration files) from a Google Cloud Storage bucket.  This includes understanding the directory structure and file organization.\n",
    "\n",
    "4. **Manage file permissions:** Students will use the `chmod` command to set executable permissions for the necessary files and directories within the TransPi software.\n",
    "\n",
    "5. **Navigate file paths:** The notebook provides examples and explanations for using relative file paths (e.g., `./`, `../`) within shell commands."
   ]
  },
  {
   "cell_type": "markdown",
   "id": "549be731",
   "metadata": {},
   "source": [
    "## Prerequisites\n",
    "\n",
    "* **Operating System:** A Linux-based system is assumed (commands like `apt`, `uname` are used).  The specific distribution isn't specified but a Debian-based system is likely.\n",
    "* **Shell Access:**  The ability to execute shell commands from within the Jupyter Notebook environment (using `!` and `%`).\n",
    "* **Java Development Kit (JDK):**  Required for Nextflow.\n",
    "* **Miniforge** A package manager for installing bioinformatics tools.\n",
    "* **`gsutil`:** The Google Cloud Storage command-line tool. This is crucial for downloading data from Google Cloud Storage."
   ]
  },
  {
   "cell_type": "markdown",
   "id": "a92f62a0",
   "metadata": {},
   "source": [
    "## Get Started"
   ]
  },
  {
   "cell_type": "markdown",
   "id": "958495ce-339d-4d4d-a621-9ede79a7363c",
   "metadata": {},
   "source": [
    "<div class=\"alert alert-block alert-success\">\n",
    "    <i class=\"fa fa-hand-paper-o\" aria-hidden=\"true\"></i>\n",
    "    <b>Note: </b>  ! and % in code cells\n",
    "</div>\n",
    "\n",
    ">You may notice that many of the lines in the code cells begin with one of these symbols: `!` or `%`. They both allow you (the user) to run shell commands in the code cells of a Juypter notebook. They do, however, operate slightly differently:  \n",
    ">- The `!` executes the command and then immediately terminates.\n",
    ">- The `%` executes the command and has a lasting effect.\n",
    "\n",
    "<div class=\"alert alert-block alert-warning\">\n",
    "    <i class=\"fa fa-pencil\" aria-hidden=\"true\"></i>\n",
    "    <b>Example:</b> \n",
    "</div>\n",
    "\n",
    ">Take this example code snippet: *Imagine that you are currently in the directory named* `original-directory`.\n",
    ">```python\n",
    "!cd different-directory/\n",
    ">```\n",
    ">After this line executes, you will still be in the directory named `original-directory`.\n",
    ">\n",
    ">**Vs.**\n",
    ">```python\n",
    "%cd different-directory/\n",
    ">```\n",
    ">After this line executes, you will now be in the directory `different-directory`."
   ]
  },
  {
   "cell_type": "markdown",
   "id": "423e706b-5085-4575-91a3-7ba7969ef1e2",
   "metadata": {},
   "source": [
    "## Time to begin!\n",
    "\n",
    "**Step 1:** To start, make sure that you are in the right starting place with a `cd`.\n",
    "> `pwd` prints our current local working directory. Make sure the output from the command is: `/home/jupyter`"
   ]
  },
  {
   "cell_type": "code",
   "execution_count": null,
   "id": "0344b971-a2d1-46cf-8661-495cf801d337",
   "metadata": {},
   "outputs": [],
   "source": [
    "%cd /home/jupyter"
   ]
  },
  {
   "cell_type": "code",
   "execution_count": null,
   "id": "5844a09f-3834-4d13-bc9f-1e55286f503d",
   "metadata": {},
   "outputs": [],
   "source": [
    "! pwd"
   ]
  },
  {
   "cell_type": "markdown",
   "id": "e674e157-8b1a-48e0-b1ce-72e748a3cb17",
   "metadata": {},
   "source": [
    "**Step 2:** Now, update the system and install Java (which is needed for Nextflow to run)."
   ]
  },
  {
   "cell_type": "code",
   "execution_count": null,
   "id": "be0fb298-b8ff-4f5f-b21b-90d9796f11e1",
   "metadata": {},
   "outputs": [],
   "source": [
    "! sudo apt update\n",
    "! sudo apt-get install default-jdk -y\n",
    "! java -version"
   ]
  },
  {
   "cell_type": "markdown",
   "id": "7b3ffb16-3395-4c01-9774-ee568e815490",
   "metadata": {},
   "source": [
    "**Step 3:** Install Miniforge (a package manager), which is needed to support the information held within the TransPi databases."
   ]
  },
  {
   "cell_type": "code",
   "execution_count": null,
   "id": "ac5b204a-f0db-4ceb-bf37-57eca6d77974",
   "metadata": {},
   "outputs": [],
   "source": [
    "! curl -L -O https://github.com/conda-forge/miniforge/releases/latest/download/Miniforge3-$(uname)-$(uname -m).sh\n",
    "! bash Miniforge3-$(uname)-$(uname -m).sh -b -p $HOME/miniforge"
   ]
  },
  {
   "cell_type": "markdown",
   "id": "c5584e2e",
   "metadata": {},
   "source": [
    "Next, add it to the path."
   ]
  },
  {
   "cell_type": "code",
   "execution_count": null,
   "id": "ad030cd1",
   "metadata": {},
   "outputs": [],
   "source": [
    "import os\n",
    "os.environ[\"PATH\"] += os.pathsep + os.environ[\"HOME\"]+\"/miniforge/bin\""
   ]
  },
  {
   "cell_type": "markdown",
   "id": "7b930ad7",
   "metadata": {},
   "source": [
    "Next, using Miniforge and bioconda, install the tools that will be used in this tutorial."
   ]
  },
  {
   "cell_type": "code",
   "execution_count": null,
   "id": "4d4dd51e",
   "metadata": {},
   "outputs": [],
   "source": [
    "! mamba install -c bioconda sra-tools perl-dbd-sqlite perl-dbi -y"
   ]
  },
  {
   "cell_type": "markdown",
   "id": "bffbeab5-3664-4c28-b948-b20d9c15aa05",
   "metadata": {},
   "source": [
    "**Step 4:** Now, install Nextflow, make it executable, and update it."
   ]
  },
  {
   "cell_type": "code",
   "execution_count": null,
   "id": "722415ad-e060-417c-8d41-f0a63f529421",
   "metadata": {},
   "outputs": [],
   "source": [
    "! curl https://get.nextflow.io | bash\n",
    "! chmod +x nextflow\n",
    "! ./nextflow self-update"
   ]
  },
  {
   "cell_type": "markdown",
   "id": "87bb745c-b465-498d-8f62-95199fc37b4d",
   "metadata": {},
   "source": [
    "**Step 5:** Time to get TransPi.\n",
    ">The original version of TransPi is available on GitHub, however, we have made a variety of alterations to the program and will be using the updated version in the following modules."
   ]
  },
  {
   "cell_type": "code",
   "execution_count": null,
   "id": "d7409cc1-540d-42ba-b195-dd2979929fb8",
   "metadata": {},
   "outputs": [],
   "source": [
    "! gsutil -m cp -r gs://nigms-sandbox/nosi-inbremaine-storage/TransPi ./"
   ]
  },
  {
   "cell_type": "markdown",
   "id": "d8346fb0-a1dd-417b-ab19-256bbf8e32ce",
   "metadata": {},
   "source": [
    "<div class=\"alert alert-block alert-success\">\n",
    "    <i class=\"fa fa-hand-paper-o\" aria-hidden=\"true\"></i>\n",
    "    <b>Note: </b>  gsutil\n",
    "</div>\n",
    "\n",
    ">`gsutil` is a tool allows you to interact with Google Cloud Storage through the command line."
   ]
  },
  {
   "cell_type": "markdown",
   "id": "624311d5-bb21-429c-b575-80ffc0a4fd9f",
   "metadata": {},
   "source": [
    "**Step 6:** Now copy over all of the additional resources needed for TransPi to run. This may take a few minutes.\n",
    "> Within the resources directory, 5 sub-directories are needed: `/bin`, `/conf`, `/DBs`, `/seq2`, and `trans`.\n",
    "> - In the **`/bin`** directory, there are a set of programs that get called by various processes within the TransPi workflow. One example `GO_plots.R` is an R script that creates plots showing gene ontology of the built transcriptome.\n",
    "> - In the **`/conf`** directory, there are 3 files, but we will only be using `uni_tax.txt` which contains the UniProt taxonomy codes.\n",
    "> - In the **`/DBs`** directory, there are 3 sub-directories containing 3 databases that TransPi needs:\n",
    ">    - **`/hmmerdb`**  contains the `Pfam_A.hmm` file which is a database of protein families. This database is used to annotate the transcriptome that is built using probabilities built from Hidden Markov Models.\n",
    ">    - **`/sqlite_db`** contains the necessary files and database to run DIAMOND, a program that swiftly aligns the built transcriptome to a database of known proteins.\n",
    ">    - **`/uniprot_db`:** contains a different database to run DIAMOND and to run TransDecoder, a program that identifies coding regions."
   ]
  },
  {
   "cell_type": "code",
   "execution_count": null,
   "id": "1233004c-fcad-444e-a5f2-9c38d33b6e95",
   "metadata": {},
   "outputs": [],
   "source": [
    "! gsutil -m cp -r gs://nigms-sandbox/nosi-inbremaine-storage/resources ./"
   ]
  },
  {
   "cell_type": "markdown",
   "id": "e6697337-a102-42ea-9b2a-55cbdbeeefa2",
   "metadata": {},
   "source": [
    "<div class=\"alert alert-block alert-success\">\n",
    "    <i class=\"fa fa-hand-paper-o\" aria-hidden=\"true\"></i>\n",
    "    <b>Note: </b>  File Paths\n",
    "</div>\n",
    "\n",
    ">Consider the following file structure and you are currently in the directory `toDo`: \n",
    ">\n",
    "> <img src=\"images/fileDemo.png\" width=\"1200\">\n",
    ">\n",
    ">- If you were to type `!ls ./`, it would return the contents of your current directory, so it would return `nextWeek`, `Today.txt`, `Tomorrow.txt`, `Yesterday.txt`.\n",
    ">     - The `./` path points to your current directory.\n",
    ">\n",
    ">- If you were to type `!ls ../`, it would return the contents of the directory 1 layer up from your current directory, so it would return `coolPicturesOcean`, `shoppingList`, `toDo`.\n",
    ">    - The `../` path points to the directory one layer up from the current directory.\n",
    ">    - They can also be stacked so `../../` will take you two layers up.\n",
    ">\n",
    ">- If you were to type `!ls ./nextWeek/` it would return the contents of the `nextWeek` directory which is one layer down from the current directory, so it would return `manyThings.txt`.\n",
    ">\n",
    ">**This means that in the second line of the code cell above, the file `TransPi.nf` will be copied from the Google Cloud Storage bucket to the current directory.**"
   ]
  },
  {
   "cell_type": "markdown",
   "id": "b2182ab3-9661-4f33-bda7-b47d38dde5eb",
   "metadata": {},
   "source": [
    "**Step 7:** Make the contents of `./TransPi/bin` executable."
   ]
  },
  {
   "cell_type": "code",
   "execution_count": null,
   "id": "78bb9105-4de3-405b-b0a7-8b6b49024493",
   "metadata": {},
   "outputs": [],
   "source": [
    "! chmod -R +x ./TransPi/bin"
   ]
  },
  {
   "cell_type": "markdown",
   "id": "5840d55c-3696-4c5b-a1b7-a5eb827b9c4c",
   "metadata": {},
   "source": [
    "<div class=\"alert alert-block alert-success\">\n",
    "    <i class=\"fa fa-hand-paper-o\" aria-hidden=\"true\"></i>\n",
    "    <b>Note: </b>  chmod\n",
    "</div>\n",
    "\n",
    ">The `chmod` command is responsible for granting access to files and directories.\n",
    ">\n",
    ">Following the `chmod` can be a series of letters and symbols, in the case above `a+rx`.\n",
    ">- The first letter can be `u`, `g`, `o`, or `a`.\n",
    ">    - `u` stands for owner\n",
    ">    - `g` stands for group\n",
    ">    - `o` stands for other users\n",
    ">    - `a` stands for all\n",
    ">    \n",
    ">    \n",
    ">- Next can be either a `+` or a `-`.\n",
    ">    - `+` grants access\n",
    ">    - `-` revokes access\n",
    ">\n",
    ">\n",
    ">- Next the type of permission is indicated (more than one can be there). The options are `r`, `w`, and `x`.\n",
    ">    - `r` is read permission\n",
    ">    - `w` is write permission\n",
    ">    - `x` is execute permission\n",
    ">\n",
    ">\n",
    ">- Finally, the file or directory is designated."
   ]
  },
  {
   "cell_type": "markdown",
   "id": "c3cfbfc2-37c0-4a54-bdca-f3ea997c25c2",
   "metadata": {},
   "source": [
    "<div class=\"alert alert-block alert-warning\">\n",
    "    <i class=\"fa fa-pencil\" aria-hidden=\"true\"></i>\n",
    "    <b>Checkpoint 1:</b>\n",
    "</div>"
   ]
  },
  {
   "cell_type": "code",
   "execution_count": null,
   "id": "6b1dd0d1-8b57-4fea-a029-649052016159",
   "metadata": {},
   "outputs": [],
   "source": [
    "from jupyterquiz import display_quiz\n",
    "display_quiz(\"Transcriptome-Assembly-Refinement-and-Applications/quiz-material/01-cp1.json\", shuffle_questions = True)"
   ]
  },
  {
   "cell_type": "markdown",
   "id": "ffec658a",
   "metadata": {},
   "source": [
    "## Conclusion\n",
    "\n",
    "This notebook successfully configured the virtual machine for the MDIBL Transcriptome Assembly Learning Module.  We updated the system, installed necessary software including Java, Mambaforge, and Nextflow, and downloaded the TransPi program and its associated resources from Google Cloud Storage.  The `chmod` command ensured executability of the TransPi scripts.  The VM is now prepared for the next notebook, `Submodule_02_basic_assembly.ipynb`, which will delve into the transcriptome assembly process itself.  Successful completion of this notebook's steps is crucial for the successful execution of subsequent modules."
   ]
  },
  {
   "cell_type": "markdown",
   "id": "666c1e4d",
   "metadata": {},
   "source": [
    "## Clean Up\n",
    "\n",
    "Remember to proceed to the next notebook [`Submodule_02_basic_assembly.ipynb`](./Submodule_02_basic_assembly.ipynb) or shut down your instance if you are finished."
   ]
  }
 ],
 "metadata": {
  "language_info": {
   "name": "python"
  }
 },
 "nbformat": 4,
 "nbformat_minor": 5
}
