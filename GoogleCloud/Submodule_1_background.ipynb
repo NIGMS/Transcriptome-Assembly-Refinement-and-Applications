{
 "cells": [
  {
   "cell_type": "markdown",
   "id": "b2476ae8-9aad-4594-a003-f92ad8b0e126",
   "metadata": {},
   "source": [
    "# MDIBL Transcriptome Assembly Learning Module\n",
    "# Notebook 1: Background Material"
   ]
  },
  {
   "cell_type": "markdown",
   "id": "5e6d2086-4dbf-4a61-a5bb-8f08a269f3fa",
   "metadata": {},
   "source": [
    "## Overview\n",
    "\n",
    "This is a series of notebooks that allows you to explore the biological and computational process of the transcriptome assembly. Through these notebooks, you will also learn to leverage the powerful capabilities of tools such as Nextflow and AWS Batch to bring your computational capabilities to the next level!\n",
    "\n",
    "Before you get started, please take this prerequisite that checks existing knowledge that will be assumed to be known through the rest of these workbooks.\n",
    "\n",
    "Throughout the notebooks, there will be periodic quizzes and knowledge checks that you are encouraged to do.\n",
    "\n",
    "Good luck, and have fun!"
   ]
  },
  {
   "cell_type": "markdown",
   "id": "3518c1a9",
   "metadata": {},
   "source": [
    "## Learning Objectives:\n",
    "\n",
    "1. **Assess prior knowledge:**  A pre-check quiz verifies foundational understanding of DNA, RNA, transcription, and gene expression.\n",
    "\n",
    "2. **Introduce transcriptome assembly:** Learners gain an understanding of what transcriptome assembly is, why RNA sequencing is performed, and the overall workflow involved.\n",
    "\n",
    "3. **Explain the process of transcriptome assembly:** This includes understanding preprocessing, sequence assembly using de Bruijn graphs, assembly assessment (internal and external consistency, BUSCO), and refinement techniques.\n",
    "\n",
    "4. **Introduce workflow management:** Learners are introduced to the concept of workflows/pipelines in bioinformatics and the role of workflow management systems like Nextflow.\n",
    "\n",
    "5. **Explain the use of Docker containers:** The notebook explains the purpose and benefits of using Docker containers for managing software dependencies in bioinformatics.\n",
    "\n",
    "6. **Introduce the AWS Batch API:** Learners are introduced to the AWS Batch API and its advantages for managing and executing workflows on cloud computing resources.\n",
    "\n",
    "7. **Familiarize learners with Jupyter Notebooks:** The notebook provides instructions on how to navigate and use Jupyter Notebooks, including cell types and execution order."
   ]
  },
  {
   "cell_type": "markdown",
   "id": "6a23eec6",
   "metadata": {},
   "source": [
    "## Prerequisites\n",
    "\n",
    "* **Basic Biology Knowledge:**  A foundational understanding of DNA, RNA, transcription, and gene expression is assumed.  The notebook includes quizzes to assess this knowledge.\n",
    "* **Python Programming:** While the notebook itself doesn't contain complex Python code, familiarity with Python syntax and the Jupyter Notebook environment is helpful.\n",
    "* **Command Line Interface (CLI) Familiarity:** The notebook mentions using `pip` (a command-line package installer), indicating some CLI knowledge is beneficial, although not strictly required for completing the quizzes and reviewing the material."
   ]
  },
  {
   "cell_type": "markdown",
   "id": "f6eefc1e",
   "metadata": {},
   "source": [
    "## Get Started"
   ]
  },
  {
   "cell_type": "markdown",
   "id": "22b95a28-fad7-4b6c-99ae-093c323f769c",
   "metadata": {},
   "source": [
    "<div class=\"alert alert-block alert-warning\">\n",
    "    <i class=\"fa fa-pencil\" aria-hidden=\"true\"></i>\n",
    "    <b>Precheck:</b>\n",
    "</div>\n",
    "\n",
    ">Before you get started, please take this quick quiz that will verify some baseline knowledge on the ideas of DNA, RNA, Transcription, and Gene Expression."
   ]
  },
  {
   "cell_type": "code",
   "execution_count": null,
   "id": "8c479507-0e54-44e1-a727-d13dceaa1c7b",
   "metadata": {},
   "outputs": [],
   "source": [
    "# This is an install that you need to run once to allow the quizes to be functional.\n",
    "! pip install jupyterquiz\n",
    "! pip install jupytercards"
   ]
  },
  {
   "cell_type": "code",
   "execution_count": null,
   "id": "c0a4331b-494c-4054-93c8-ef8433ca7b40",
   "metadata": {},
   "outputs": [],
   "source": [
    "from jupyterquiz import display_quiz"
   ]
  },
  {
   "cell_type": "code",
   "execution_count": null,
   "id": "a89c8abf-fad1-4b23-b3fc-1a5933193fa0",
   "metadata": {},
   "outputs": [],
   "source": [
    "display_quiz(\"../quiz-material/00-pc1.json\")"
   ]
  },
  {
   "cell_type": "markdown",
   "id": "e1d5ab0d-1671-47c6-888d-a8d2774df30c",
   "metadata": {},
   "source": [
    "<div class=\"alert alert-block alert-success\">\n",
    "    <i class=\"fa fa-hand-paper-o\" aria-hidden=\"true\"></i>\n",
    "    <b>Note: </b>  Some Resources\n",
    "</div>\n",
    "\n",
    ">If you feel unsure about your knowledge in any of these topics, please reference [Submodule_00_Glossary.md](./Submodule_00_Glossary.md) along with the National Human Genome Research Institute's [Glossary of Genomic and Genetic Terms](https://www.genome.gov/genetics-glossary)."
   ]
  },
  {
   "cell_type": "code",
   "execution_count": null,
   "id": "39b204c4-847a-49b3-afa0-c4da4216ace4",
   "metadata": {},
   "outputs": [],
   "source": [
    "#Run the command below to watch the video\n",
    "from IPython.display import YouTubeVideo\n",
    "\n",
    "YouTubeVideo('abw2XAg1e_g', width=800, height=400)"
   ]
  },
  {
   "cell_type": "markdown",
   "id": "45b85d9f-4115-446d-8120-02c988a7769f",
   "metadata": {},
   "source": [
    "## Why do we sequence RNA?\n",
    "RNA-sequencing (RNA-seq) is the most common means by which biological samples are characterized at the molecular level.  In brief, it is a means of measuring which genes have RNA copies (transcripts) present in a sample and in what relative abundance. The sample is prepared in such a way that DNA and proteins are degraded away, and then the remaining RNA is prepared such that it can be read (as a series of DNA bases A, C, G, and T) on a modern sequencer. Sequencing machines are generally classified as short read, which produces sequence read lengths of 50 to 150 nucleotides, or long-read, which can generate up to tens of thousands of bases. Short-read sequencers have been available for a longer time, and remain more capable of high throughput quantitative output, and these reads are the focus of our work here.\n",
    "\n",
    "The standard workflow analysis of RNA-seq data consists of these broad steps:\n",
    "- Quality assessment and pre-processing\n",
    "- Assignment of reads to transcripts/genes\n",
    "- Normalization of reads between samples\n",
    "- Assessment of differential expression of transcripts/genes between experimental conditions\n",
    "- Interpretation of the resulting differential expression profiles\n",
    "\n",
    "Implicit in the workflow above is the existence of a target transcriptome to which the RNA-seq reads can be compared, aligned, and assigned for quantification. For well-studied organisms, such as human, mouse, zebrafish, or other model organisms, there are abundant reference materials available from such sites as [Ensembl](https://www.ensembl.org/), [NCBI](https://ncbi.nlm.nih.gov/), and the [UCSC Genome Browser](https://genome.ucsc.edu/).\n",
    "\n",
    "For less well-studied organisms, no such references are generally available, however, the RNA-seq data contains the information necessary to infer not only abundance but also the transcript sequences from which the data was generated. The process of inferring the starting transcripts from the data, termed ***Transcriptome Assembly***, is the focus of this module."
   ]
  },
  {
   "cell_type": "markdown",
   "id": "e392c553-1831-4978-af06-83359f8de746",
   "metadata": {},
   "source": [
    "## Transcriptome Sequence Assembly\n",
    "As a first approximation, sequence assembly of a single molecule (*e.g.*, a chromosome) can be thought of as analogous to the process of reconstructing a picture from smaller, overlapping segments of the picture. Overlapping pieces are identified and matched, extending the construct until an estimation of the complete picture is generated. To make this metaphor a bit more realistic, the subsegments of the original picture are *imperfect*, such that successful construction of the complete picture will require error identification (or at least estimation) and correction.\n",
    "\n",
    "In order to extend this analog to transcriptome assembly, imagine that instead of one picture, our smaller segments instead are drawn from many pictures. Now the process of reconstruction will necessarily include a step that attempts to separate the smaller segments into related groups, after which the assembly procedure proceeds.\n",
    "\n",
    "#### Preprocessing and Data Cleaning\n",
    "For reasons described below, stringent quality assessment and filtering of the data is generally carried out before the assembly process is begun. The primary steps include:\n",
    "- Removal of low-quality score data\n",
    "- Removal of contaminant sequence data\n",
    "- Removal of known functional RNA\n",
    "\n",
    "#### Sequence Assembly\n",
    "<img  src=\"../images/deBruijnGraph.png\" width=600 alt=\"Conceptual design of a de Bruijn Graph\">\n",
    "\n",
    "**Figure 1:** Conceptual diagram of a sequence-defined [de Bruijn graph](https://en.wikipedia.org/wiki/De_Bruijn_graph). (A) Each sequence in an RNA-seq is broken into overlapping *k*-mers. (B) Each *k*-mer becomes a node in the graph, shown in the example with *k*=6. Edges are drawn between nodes that match *k*-1 contiguous nucleotides. (C) Putative transcripts (shown in distinct colors) are represented as traversals of one of the many connected components of the graph generated by the starting sequence set.</p>\n",
    "\n",
    "#### Assembly Assessment\n",
    "- Internal consistency\n",
    "    - Use of a de Bruijn graph is computationally efficient (especially compared to exhaustive pairwise alignment of all sequence reads), but all \"long-range\" information is weakened.\n",
    "    - The weakening of the long-range information necessitates further QC. The problem is that building complete transcripts from just *k*-mers and their probabilities means that we can generate sequences that are computationally possible but don't exist in the input data. Internal consistency refers to the process of aligning the original input reads to the output transcriptome. Transcripts that do not get sufficient coverage are flagged as probable artifacts.\n",
    "- External consistency\n",
    "    - Studies of transcriptomes across many organisms have demonstrated common features. By \"external consistency\" we mean matching our new transcriptome to these expectations.\n",
    "    - [BUSCO](https://busco.ezlab.org/) is an innovative analysis and set of tools developed by the [EZlab at the Swiss Insitute of Bioinformatics](https://www.ezlab.org/). The fundamental idea behind BUSCO (**B**enchmarking **U**niversal **S**ingle-**C**opy **O**rthologs) derives from the Zdobnov group's analysis, which showed that for a defined phylogenetic range of organisms, there is a core set of protein-coding genes that are nearly universally present in only a single copy. The BUSCO tools test this assumption.\n",
    "    - The second standard process for external consistency is to align all predicted proteins for the new transcriptome to a complete set of proteins from a well-studied (e.g., fly or mouse) under the assumption that most of the proteins should match.\n",
    "\n",
    "#### Assembly Refinement\n",
    "Assemblies are refined in several different manners:\n",
    "- Removal of redundant (or likely so) transcripts, based on sequence similarity between assembled forms.\n",
    "- Limitation to transcripts with predicted/conceptual translated protein sequences that match known proteins in other organisms.\n",
    "\n",
    "For Assembly refinement, the TransPi workflow relies primarily on the \"EvidentialGene\" tool."
   ]
  },
  {
   "cell_type": "markdown",
   "id": "725afa76-ab95-4ab5-8b85-6b6795436c0e",
   "metadata": {},
   "source": [
    "## Workflow Execution with Nextflow"
   ]
  },
  {
   "cell_type": "code",
   "execution_count": null,
   "id": "394e8677-1f82-4e42-9e37-535777128a1a",
   "metadata": {},
   "outputs": [],
   "source": [
    "#Run the command below to watch the video\n",
    "from IPython.display import YouTubeVideo\n",
    "\n",
    "YouTubeVideo('FMcZD10Qrbs', width=800, height=400)"
   ]
  },
  {
   "cell_type": "markdown",
   "id": "624b90a4-732a-47a2-987e-e37d16f124bb",
   "metadata": {},
   "source": [
    "\n",
    "It is standard practice in modern biotechnology, bioinformatics, and computational biology that most complex analyses are carried out not by a single comprehensive program, but are instead carried out in a defined sequence of multiple programs. The process of running through these steps in the proper order is collectively called a ***workflow*** or ***pipeline***.\n",
    "\n",
    "<img align=\"right\" src=\"../images/workflow_concept.png\" width=400>\n",
    "\n",
    "Workflow management systems, *e.g.*, Nextflow, provide a syntax for defining the order of steps and the associated flow of information between steps, while also providing management/control software that can read and carry out these workflows. The workflow control systems (which are generally platform-specific) are responsible for allocating resources, activating analysis steps, and also making sure that all steps occur in the proper order (e.g., only activating a sequence alignment program after the sequence quality control has been performed).\n",
    "\n",
    "<img align=\"left\" src=\"../images/module_concept.png\" width=250>\n",
    "\n",
    "Workflows can be conceptually broken up into steps or modules (see the figure at left), which formalize the flow of information as inputs and outputs. A workflow conceptually ties the steps/modules together and enforces the dependencies (see the figure above), specifically in that if the output from one step is the input for a later step, the later step is blocked until the earlier step completes."
   ]
  },
  {
   "cell_type": "markdown",
   "id": "77e96ae4-5e6e-4499-9f6e-bda00cbbabc5",
   "metadata": {},
   "source": [
    "## Running Individual Analysis Steps with Docker\n",
    "One of the most frustrating aspects of carrying out computational biology/bioinformatics programs is installing and maintaining the software programs that we use. These programs are built by a wide variety of research and industrial organizations, and they are built on a wide variety of platforms and utilize an even wider set of supporting libraries and auxiliary components. The reason this causes problems is that the underlying dependencies can conflict with those of other programs or the operating system.\n",
    "\n",
    "One of our primary tools for efficient maintenance is a container system such as [Docker](https://www.docker.com/).\n",
    "#### What are container systems and what are containers?\n",
    "A container system is a program that creates protected environments within your computer in which programs and their dependencies can be loaded only as long as they are needed to run the program of interest. The container system can load and unload containers as needed. One of the primary benefits of such systems is that once a container has been defined for a specific program, it can be reused repeatedly on the same computer or shared with others through online repositories.\n",
    "#### Why do we use containers?\n",
    "We use containers because they allow us to run a broad range of computer programs without having to manage all of their underlying programmatic dependencies. Having a program encapsulated in a container also preserves our ability to continue to use that version of the program, even if either the program or its dependencies are updated."
   ]
  },
  {
   "cell_type": "markdown",
   "id": "9497e93b-b398-41fb-87a5-f1082e13a0aa",
   "metadata": {},
   "source": [
    "### Running workflows using the AWS Batch API\n",
    "\n",
    "AWS Batch is a fully managed service provided by Amazon Web Services (AWS) that enables you to easily and efficiently run batch computing workloads on the AWS Cloud. It dynamically provisions the optimal quantity and type of compute resources, such as Amazon EC2 instances or AWS Fargate, based on the volume and specific resource requirements of your batch jobs. By abstracting away the complexities of infrastructure management, job scheduling, and scaling, AWS Batch allows developers, scientists, and engineers to focus on analyzing results, solving problems, and building solutions, rather than spending time on the underlying computational infrastructure. Nextflow is well-suited for running tasks in AWS Batch.\n",
    "\n",
    "#### What do we gain by using AWS Batch\n",
    "- The key to cost-efficient cloud computing is to only use the resources you need for as long as you need them. \n",
    "- AWS Batch explicitly supports the Nextflow workflow system that we are using, mapping computational tasks onto AWS computing resources."
   ]
  },
  {
   "cell_type": "markdown",
   "id": "97bd4c54-198a-4c94-a959-20d440a02156",
   "metadata": {},
   "source": [
    "<div class=\"alert alert-block alert-warning\">\n",
    "    <i class=\"fa fa-pencil\" aria-hidden=\"true\"></i>\n",
    "    <b>Checkpoint 1:</b>\n",
    "</div>"
   ]
  },
  {
   "cell_type": "code",
   "execution_count": null,
   "id": "b64e6f8a-84ba-4279-b002-25ae4f0755ae",
   "metadata": {},
   "outputs": [],
   "source": [
    "display_quiz(\"../quiz-material/00-cp1.json\", shuffle_questions = True)"
   ]
  },
  {
   "cell_type": "markdown",
   "id": "1b46f12f-f439-425e-ba98-28bfe1b5ec77",
   "metadata": {},
   "source": [
    "## Jupyter Notebook Introduction\n",
    "\n",
    "All of the content contained within this module is presented in Jupyter notebooks which have the `.ipynb` file type. *You are in a Jupyter notebook right now.* Within each notebook is a series of cells that can be individually executed by pressing the `shift + enter` keys at the same time.\n",
    "\n",
    "Each cell has options as to how it is executed. For example, the text that you are reading right now in this cell is in the `Markdown` cell type, but there are also `code`, and `raw` cell types. In these modules, you will primarily be seeing `Markdown` and `code` cells. *You can choose what each cell type is by using the drop-down menu at the top of the notebook.*\n",
    "\n",
    "> <img src=\"../images/cellMenu.png\" width=\"500\">\n",
    "\n",
    "For the code cells, information carries over between cells, but in execution order. This is important because when looking at a series of cells you may be expecting a specific output, but receive a different output due to the order of execution."
   ]
  },
  {
   "cell_type": "markdown",
   "id": "02c8af23-fc70-4265-a07f-50ef77c12564",
   "metadata": {},
   "source": [
    "<div class=\"alert alert-block alert-warning\">\n",
    "    <i class=\"fa fa-pencil\" aria-hidden=\"true\"></i>\n",
    "    <b>Example:</b> Follow the steps in the cells below\n",
    "</div>"
   ]
  },
  {
   "cell_type": "code",
   "execution_count": null,
   "id": "da4d8800-63cb-4dd8-bc2e-b28a52513c76",
   "metadata": {},
   "outputs": [],
   "source": [
    "# Execute 1st:\n",
    "var1 = 100"
   ]
  },
  {
   "cell_type": "code",
   "execution_count": null,
   "id": "70147ffa-fe71-40eb-bf83-12e7cb0cfdce",
   "metadata": {},
   "outputs": [],
   "source": [
    "# Execute 2nd and 4th:\n",
    "print(var1)"
   ]
  },
  {
   "cell_type": "code",
   "execution_count": null,
   "id": "4bb0a293-4feb-4ca3-b3fd-caf4df3ce6af",
   "metadata": {},
   "outputs": [],
   "source": [
    "# Execute 3rd:\n",
    "var1 = 'not the same anymore'\n",
    "# And now run the cell above"
   ]
  },
  {
   "cell_type": "markdown",
   "id": "927a8df2-87f9-45aa-a096-4e1133a97f64",
   "metadata": {},
   "source": [
    ">As you can see, `var1` got overwritten, and when you retroactively re-run the `print(var1)` cell, the output has changed, even though it is above the variable assignment.\n",
    "\n",
    "In the following notebooks, there will be some code cells that will take a long time to run. *Sometimes with no output.* So there are two ways to check if the cell is still executing:\n",
    "\n",
    "1. The first way to check is to look to the left of the code cell. There will be an indication that looks like this: `[ ]:` If it is empty, then the cell has never been executed yet. If it looks like this: `[*]:`, that means that it is actively executing. And if it looks like this `[53]:`, that means that it has completed executing.\n",
    "2. The second way, which will check to see if anything in the entire notebook is executing is in the top right of the notebook (Image Below). If the circle is empty, then nothing is actively executing. If the circle is grayed out, then there is something executing.\n",
    "\n",
    "> <img src=\"../images/jupyterRuntimeCircle.png\" width=\"500\">"
   ]
  },
  {
   "cell_type": "markdown",
   "id": "20730a46-7d8c-4dec-a6de-3dcf10fdb888",
   "metadata": {},
   "source": [
    "<div class=\"alert alert-block alert-warning\">\n",
    "    <i class=\"fa fa-pencil\" aria-hidden=\"true\"></i>\n",
    "    <b>Knowledge Check:</b> \n",
    "</div>\n",
    "\n",
    ">Change the cell below from a code cell to a markdown cell. *Don't forget to execute the cell.*"
   ]
  },
  {
   "cell_type": "code",
   "execution_count": null,
   "id": "7ebda978-4968-46f6-a330-927a978b43ef",
   "metadata": {},
   "outputs": [],
   "source": [
    "change our cell type\n",
    "# I WANT TO BE BIGGER\n",
    "*I want to be tilted*\n",
    "\n",
    "**I want to be bold**\n",
    "\n",
    "`And I want to have a grey background`"
   ]
  },
  {
   "cell_type": "markdown",
   "id": "d473f3b2-3440-47a5-98b9-950ceb66704e",
   "metadata": {},
   "source": [
    "<div class=\"alert alert-block alert-warning\">\n",
    "    <i class=\"fa fa-pencil\" aria-hidden=\"true\"></i>\n",
    "    <b>Checkpoint 2:</b>\n",
    "</div>"
   ]
  },
  {
   "cell_type": "code",
   "execution_count": null,
   "id": "a080a9dd-9ea6-4d6a-b5d5-ccd3382f09ed",
   "metadata": {},
   "outputs": [],
   "source": [
    "display_quiz(\"../quiz-material/00-cp2.json\", shuffle_questions = True)"
   ]
  },
  {
   "cell_type": "markdown",
   "id": "13787980",
   "metadata": {},
   "source": [
    "<div class=\"alert alert-block alert-success\">\n",
    "    <i class=\"fa fa-hand-paper-o\" aria-hidden=\"true\"></i>\n",
    "    <b>Note: </b>  ! and % in code cells\n",
    "</div>\n",
    "\n",
    ">You may notice that many of the lines in the code cells begin with one of these symbols: `!` or `%`. They both allow you (the user) to run shell commands in the code cells of a Juypter notebook. They do, however, operate slightly differently:  \n",
    ">- The `!` executes the command and then immediately terminates.\n",
    ">- The `%` executes the command and has a lasting effect.\n",
    "\n",
    "<div class=\"alert alert-block alert-warning\">\n",
    "    <i class=\"fa fa-pencil\" aria-hidden=\"true\"></i>\n",
    "    <b>Example:</b> \n",
    "</div>\n",
    "\n",
    ">Take this example code snippet: *Imagine that you are currently in the directory named* `original-directory`.\n",
    ">```python\n",
    "!cd different-directory/\n",
    ">```\n",
    ">After this line executes, you will still be in the directory named `original-directory`.\n",
    ">\n",
    ">**Vs.**\n",
    ">```python\n",
    "%cd different-directory/\n",
    ">```\n",
    ">After this line executes, you will now be in the directory `different-directory`."
   ]
  },
  {
   "cell_type": "markdown",
   "id": "7c10eb27",
   "metadata": {},
   "source": [
    "<div class=\"alert alert-block alert-success\">\n",
    "    <i class=\"fa fa-hand-paper-o\" aria-hidden=\"true\"></i>\n",
    "    <b>Note: </b>  File Paths\n",
    "</div>\n",
    "\n",
    ">Consider the following file structure and you are currently in the directory `toDo`: \n",
    ">\n",
    "> <img src=\"../images/fileDemo.png\" width=\"1200\">\n",
    ">\n",
    ">- If you were to type `!ls ./`, it would return the contents of your current directory, so it would return `nextWeek`, `Today.txt`, `Tomorrow.txt`, `Yesterday.txt`.\n",
    ">     - The `./` path points to your current directory.\n",
    ">\n",
    ">- If you were to type `!ls ../`, it would return the contents of the directory 1 layer up from your current directory, so it would return `coolPicturesOcean`, `shoppingList`, `toDo`.\n",
    ">    - The `../` path points to the directory one layer up from the current directory.\n",
    ">    - They can also be stacked so `../../` will take you two layers up.\n",
    ">\n",
    ">- If you were to type `!ls ./nextWeek/` it would return the contents of the `nextWeek` directory which is one layer down from the current directory, so it would return `manyThings.txt`.\n",
    ">"
   ]
  },
  {
   "cell_type": "markdown",
   "id": "0f7fef78",
   "metadata": {},
   "source": [
    "<div class=\"alert alert-block alert-warning\">\n",
    "    <i class=\"fa fa-pencil\" aria-hidden=\"true\"></i>\n",
    "    <b>Checkpoint 3:</b>\n",
    "</div>"
   ]
  },
  {
   "cell_type": "code",
   "execution_count": null,
   "id": "7c719c01",
   "metadata": {},
   "outputs": [
    {
     "data": {
      "text/html": [
       "<div id=\"YvHGaNgtKmdS\" data-shufflequestions=\"True\"\n",
       "               data-shuffleanswers=\"True\"\n",
       "               data-preserveresponses=\"false\"\n",
       "               data-numquestions=\"1000000\"\n",
       "               data-maxwidth=\"600\"\n",
       "               style=\"border-radius: 10px; text-align: left\"> <style>\n",
       "#YvHGaNgtKmdS {\n",
       "   --jq-multiple-choice-bg: #6f78ffff;\n",
       "   --jq-mc-button-bg: #fafafa;\n",
       "   --jq-mc-button-border: #e0e0e0e0;\n",
       "   --jq-mc-button-inset-shadow: #555555;\n",
       "   --jq-many-choice-bg: #f75c03ff;\n",
       "   --jq-numeric-bg: #392061ff;\n",
       "   --jq-numeric-input-bg: #c0c0c0;\n",
       "   --jq-numeric-input-label: #101010;\n",
       "   --jq-numeric-input-shadow: #999999;\n",
       "   --jq-incorrect-color: #c80202;\n",
       "   --jq-correct-color: #009113;\n",
       "   --jq-text-color: #fafafa;\n",
       "}\n",
       "\n",
       ".Quiz {\n",
       "    max-width: 600px;\n",
       "    margin-top: 15px;\n",
       "    margin-left: auto;\n",
       "    margin-right: auto;\n",
       "/*    margin-bottom: 15px;*/\n",
       "/*    padding-bottom: 4px;*/\n",
       "    padding-top: 4px;\n",
       "    line-height: 1.1;\n",
       "    font-size: 16pt;\n",
       "    border-radius: inherit;\n",
       "}\n",
       "\n",
       ".QuizCode {\n",
       "    font-size: 14pt;\n",
       "    margin-top: 10px;\n",
       "    margin-left: 20px;\n",
       "    margin-right: 20px;\n",
       "}\n",
       "\n",
       ".QuizCode>pre {\n",
       "    padding: 4px;\n",
       "}\n",
       "\n",
       ".Quiz code {\n",
       "    background-color: lightgray;\n",
       "    color: black;\n",
       "}\n",
       "\n",
       ".Quiz .QuizCode code {\n",
       "    background-color: inherit;\n",
       "    color: inherit;\n",
       "}\n",
       "\n",
       "\n",
       ".Quiz .MCButton code {\n",
       "    background-color: inherit;\n",
       "    color: inherit;\n",
       "}\n",
       "\n",
       ".MCButton .QuizCode {\n",
       "    text-align: left;\n",
       "}\n",
       "\n",
       "\n",
       "\n",
       "\n",
       ".Answer {\n",
       "    border-radius: inherit;\n",
       "    display: grid;\n",
       "    grid-gap: 10px;\n",
       "    grid-template-columns: 1fr 1fr;\n",
       "    margin: 10px 0;\n",
       "}\n",
       "\n",
       "@media only screen and (max-width:480px) {\n",
       "    .Answer {\n",
       "        grid-template-columns: 1fr;\n",
       "    }\n",
       "\n",
       "}\n",
       "\n",
       ".Feedback {\n",
       "    font-size: 16pt;\n",
       "    text-align: center;\n",
       "/*    min-height: 2em;*/\n",
       "}\n",
       "\n",
       ".Input {\n",
       "    align: left;\n",
       "    font-size: 20pt;\n",
       "}\n",
       "\n",
       ".Input-text {\n",
       "    display: block;\n",
       "    margin: 10px;\n",
       "    color: inherit;\n",
       "    width: 140px;\n",
       "    background-color: var(--jq-numeric-input-bg);\n",
       "    color: var(--jq-text-color);\n",
       "    padding: 5px;\n",
       "    padding-left: 10px;\n",
       "    font-family: inherit;\n",
       "    font-size: 20px;\n",
       "    font-weight: inherit;\n",
       "    line-height: 20pt;\n",
       "    border: none;\n",
       "    border-radius: 0.2rem;\n",
       "    transition: box-shadow 0.1s);\n",
       "}\n",
       "\n",
       ".Input-text:focus {\n",
       "    /*outline: none;*/\n",
       "    background-color: var(--jq-numeric-input-bg);\n",
       "    box-shadow: 0.6rem 0.8rem 1.4rem -0.5rem var(--jq-numeric-input-shadow);\n",
       "}\n",
       "\n",
       ".MCButton {\n",
       "    background: var(--jq-mc-button-bg);\n",
       "    border: 1px solid var(--jq-mc-button-border);\n",
       "    border-radius: inherit;\n",
       "    color: #333333;\n",
       "    padding: 10px;\n",
       "    font-size: 16px;\n",
       "    cursor: pointer;\n",
       "    text-align: center;\n",
       "    display: flex;\n",
       "    align-items: center;\n",
       "    justify-content: center;\n",
       "}\n",
       "\n",
       ".MCButton p {\n",
       "    color: inherit;\n",
       "}\n",
       "\n",
       ".MultipleChoiceQn {\n",
       "    padding: 10px;\n",
       "    background: var(--jq-multiple-choice-bg);\n",
       "    color: var(--jq-text-color);\n",
       "    border-radius: inherit;\n",
       "}\n",
       "\n",
       ".ManyChoiceQn {\n",
       "    padding: 10px;\n",
       "    background: var(--jq-many-choice-bg);\n",
       "    color: var(--jq-text-color);\n",
       "    border-radius: inherit;\n",
       "}\n",
       "\n",
       ".NumericQn {\n",
       "    background: var(--jq-numeric-bg);\n",
       "    border-radius: inherit;\n",
       "    color: var(--jq-text-color);\n",
       "    padding: 10px;\n",
       "}\n",
       "\n",
       ".NumericQn p {\n",
       "    color: inherit;\n",
       "}\n",
       "\n",
       ".InpLabel {\n",
       "    color: var(--jq-numeric-input-label);\n",
       "    float: left;\n",
       "    font-size: 15pt;\n",
       "    line-height: 34px;\n",
       "    margin-right: 10px;\n",
       "}\n",
       "\n",
       ".incorrect {\n",
       "    color: var(--jq-incorrect-color);\n",
       "}\n",
       "\n",
       ".correct {\n",
       "    color: var(--jq-correct-color);\n",
       "}\n",
       "\n",
       ".correctButton {\n",
       "    /*\n",
       "    background: var(--jq-correct-color);\n",
       "   */\n",
       "    animation: correct-anim 0.6s ease;\n",
       "    animation-fill-mode: forwards;\n",
       "    box-shadow: inset 0 0 5px var(--jq-mc-button-inset-shadow);\n",
       "    color: var(--jq-text-color);\n",
       "    /*outline: none;*/\n",
       "}\n",
       "\n",
       ".incorrectButton {\n",
       "    animation: incorrect-anim 0.8s ease;\n",
       "    animation-fill-mode: forwards;\n",
       "    box-shadow: inset 0 0 5px var(--jq-mc-button-inset-shadow);\n",
       "    color: var(--jq-text-color);\n",
       "    /*outline: none;*/\n",
       "}\n",
       "\n",
       "@keyframes incorrect-anim {\n",
       "    100% {\n",
       "        background-color: var(--jq-incorrect-color);\n",
       "    }\n",
       "}\n",
       "\n",
       "@keyframes correct-anim {\n",
       "    100% {\n",
       "        background-color: var(--jq-correct-color);\n",
       "    }\n",
       "}\n",
       "</style>"
      ],
      "text/plain": [
       "<IPython.core.display.HTML object>"
      ]
     },
     "metadata": {},
     "output_type": "display_data"
    },
    {
     "data": {
      "application/javascript": "var questionsYvHGaNgtKmdS=[\n    {\n        \"question\": \"If you wanted to revoke write and execute permissions for 'other users' on the file 'important.sh', what would you write?\",\n        \"type\": \"multiple_choice\",\n        \"answers\": [\n            {\n                \"answer\": \"chmod a-wx important.sh\",\n                \"correct\": false,\n                \"feedback\": \"Incorrect\"\n            },\n            {\n                \"answer\": \"chmod o+wx important.sh\",\n                \"correct\": false,\n                \"feedback\": \"Incorrect\"\n            },\n            {\n                \"answer\": \"chmod o-wx important.sh\",\n                \"correct\": true,\n                \"feedback\": \"Correct\"\n            },\n            {\n                \"answer\": \"chmod o-rx important.sh\",\n                \"correct\": false,\n                \"feedback\": \"Incorrect\"\n            }                  \n                    ] \n    },\n    \n    {\n        \"question\": \"If you wanted the command: cd home/workflowFiles/data/ to have a lasting effect, would you start it with? ! or %?\",\n        \"type\": \"multiple_choice\",\n        \"answers\": [\n            {\n                \"answer\": \"!\",\n                \"correct\": false,\n                \"feedback\": \"Incorrect\"\n            },\n            {\n                \"answer\": \"%\",\n                \"correct\": true,\n                \"feedback\": \"Correct\"\n            }                 \n                    ] \n    }\n    ,\n    \n    {\n        \"question\": \"How many directories up or down would this take you: ../../../../? A positive number is up, a negative number is down.\",\n        \"type\": \"numeric\",\n        \"answers\": [\n           {\n                \"type\": \"value\",\n                \"value\": 4,\n                \"correct\": true,\n                \"feedback\": \"Correct\"\n            },\n            {\n                \"type\": \"value\",\n                \"value\": -4,\n                \"correct\": false,\n                \"feedback\": \"Make sure you are getting your directions right.\"\n            }                  \n                    ] \n    }\n    \n    \n    \n]\n;\n    // Make a random ID\nfunction makeid(length) {\n    var result = [];\n    var characters = 'ABCDEFGHIJKLMNOPQRSTUVWXYZabcdefghijklmnopqrstuvwxyz';\n    var charactersLength = characters.length;\n    for (var i = 0; i < length; i++) {\n        result.push(characters.charAt(Math.floor(Math.random() * charactersLength)));\n    }\n    return result.join('');\n}\n\n// Choose a random subset of an array. Can also be used to shuffle the array\nfunction getRandomSubarray(arr, size) {\n    var shuffled = arr.slice(0), i = arr.length, temp, index;\n    while (i--) {\n        index = Math.floor((i + 1) * Math.random());\n        temp = shuffled[index];\n        shuffled[index] = shuffled[i];\n        shuffled[i] = temp;\n    }\n    return shuffled.slice(0, size);\n}\n\nfunction printResponses(responsesContainer) {\n    var responses=JSON.parse(responsesContainer.dataset.responses);\n    var stringResponses='<B>IMPORTANT!</B>To preserve this answer sequence for submission, when you have finalized your answers: <ol> <li> Copy the text in this cell below \"Answer String\"</li> <li> Double click on the cell directly below the Answer String, labeled \"Replace Me\"</li> <li> Select the whole \"Replace Me\" text</li> <li> Paste in your answer string and press shift-Enter.</li><li>Save the notebook using the save icon or File->Save Notebook menu item</li></ul><br><br><br><b>Answer String:</b><br> ';\n    console.log(responses);\n    responses.forEach((response, index) => {\n        if (response) {\n            console.log(index + ': ' + response);\n            stringResponses+= index + ': ' + response +\"<BR>\";\n        }\n    });\n    responsesContainer.innerHTML=stringResponses;\n}\n/* Callback function to determine whether a selected multiple-choice\n   button corresponded to a correct answer and to provide feedback\n   based on the answer */\nfunction check_mc() {\n    var id = this.id.split('-')[0];\n    //var response = this.id.split('-')[1];\n    //console.log(response);\n    //console.log(\"In check_mc(), id=\"+id);\n    //console.log(event.srcElement.id)           \n    //console.log(event.srcElement.dataset.correct)   \n    //console.log(event.srcElement.dataset.feedback)\n\n    var label = event.srcElement;\n    //console.log(label, label.nodeName);\n    var depth = 0;\n    while ((label.nodeName != \"LABEL\") && (depth < 20)) {\n        label = label.parentElement;\n        console.log(depth, label);\n        depth++;\n    }\n\n\n\n    var answers = label.parentElement.children;\n    //console.log(answers);\n\n    // Split behavior based on multiple choice vs many choice:\n    var fb = document.getElementById(\"fb\" + id);\n\n\n\n    /* Multiple choice (1 answer). Allow for 0 correct\n       answers as an edge case */\n    if (fb.dataset.numcorrect <= 1) {\n        // What follows is for the saved responses stuff\n        var outerContainer = fb.parentElement.parentElement;\n        var responsesContainer = document.getElementById(\"responses\" + outerContainer.id);\n        if (responsesContainer) {\n            //console.log(responsesContainer);\n            var response = label.firstChild.innerText;\n            if (label.querySelector(\".QuizCode\")){\n                response+= label.querySelector(\".QuizCode\").firstChild.innerText;\n            }\n            console.log(response);\n            //console.log(document.getElementById(\"quizWrap\"+id));\n            var qnum = document.getElementById(\"quizWrap\"+id).dataset.qnum;\n            console.log(\"Question \" + qnum);\n            //console.log(id, \", got numcorrect=\",fb.dataset.numcorrect);\n            var responses=JSON.parse(responsesContainer.dataset.responses);\n            console.log(responses);\n            responses[qnum]= response;\n            responsesContainer.setAttribute('data-responses', JSON.stringify(responses));\n            printResponses(responsesContainer);\n        }\n        // End code to preserve responses\n\n        for (var i = 0; i < answers.length; i++) {\n            var child = answers[i];\n            //console.log(child);\n            child.className = \"MCButton\";\n        }\n\n\n\n        if (label.dataset.correct == \"true\") {\n            // console.log(\"Correct action\");\n            if (\"feedback\" in label.dataset) {\n                fb.innerHTML = jaxify(label.dataset.feedback);\n            } else {\n                fb.innerHTML = \"Correct!\";\n            }\n            label.classList.add(\"correctButton\");\n\n            fb.className = \"Feedback\";\n            fb.classList.add(\"correct\");\n\n        } else {\n            if (\"feedback\" in label.dataset) {\n                fb.innerHTML = jaxify(label.dataset.feedback);\n            } else {\n                fb.innerHTML = \"Incorrect -- try again.\";\n            }\n            //console.log(\"Error action\");\n            label.classList.add(\"incorrectButton\");\n            fb.className = \"Feedback\";\n            fb.classList.add(\"incorrect\");\n        }\n    }\n    else { /* Many choice (more than 1 correct answer) */\n        var reset = false;\n        var feedback;\n         if (label.dataset.correct == \"true\") {\n            if (\"feedback\" in label.dataset) {\n                feedback = jaxify(label.dataset.feedback);\n            } else {\n                feedback = \"Correct!\";\n            }\n            if (label.dataset.answered <= 0) {\n                if (fb.dataset.answeredcorrect < 0) {\n                    fb.dataset.answeredcorrect = 1;\n                    reset = true;\n                } else {\n                    fb.dataset.answeredcorrect++;\n                }\n                if (reset) {\n                    for (var i = 0; i < answers.length; i++) {\n                        var child = answers[i];\n                        child.className = \"MCButton\";\n                        child.dataset.answered = 0;\n                    }\n                }\n                label.classList.add(\"correctButton\");\n                label.dataset.answered = 1;\n                fb.className = \"Feedback\";\n                fb.classList.add(\"correct\");\n\n            }\n        } else {\n            if (\"feedback\" in label.dataset) {\n                feedback = jaxify(label.dataset.feedback);\n            } else {\n                feedback = \"Incorrect -- try again.\";\n            }\n            if (fb.dataset.answeredcorrect > 0) {\n                fb.dataset.answeredcorrect = -1;\n                reset = true;\n            } else {\n                fb.dataset.answeredcorrect--;\n            }\n\n            if (reset) {\n                for (var i = 0; i < answers.length; i++) {\n                    var child = answers[i];\n                    child.className = \"MCButton\";\n                    child.dataset.answered = 0;\n                }\n            }\n            label.classList.add(\"incorrectButton\");\n            fb.className = \"Feedback\";\n            fb.classList.add(\"incorrect\");\n        }\n        // What follows is for the saved responses stuff\n        var outerContainer = fb.parentElement.parentElement;\n        var responsesContainer = document.getElementById(\"responses\" + outerContainer.id);\n        if (responsesContainer) {\n            //console.log(responsesContainer);\n            var response = label.firstChild.innerText;\n            if (label.querySelector(\".QuizCode\")){\n                response+= label.querySelector(\".QuizCode\").firstChild.innerText;\n            }\n            console.log(response);\n            //console.log(document.getElementById(\"quizWrap\"+id));\n            var qnum = document.getElementById(\"quizWrap\"+id).dataset.qnum;\n            console.log(\"Question \" + qnum);\n            //console.log(id, \", got numcorrect=\",fb.dataset.numcorrect);\n            var responses=JSON.parse(responsesContainer.dataset.responses);\n            if (label.dataset.correct == \"true\") {\n                if (typeof(responses[qnum]) == \"object\"){\n                    if (!responses[qnum].includes(response))\n                        responses[qnum].push(response);\n                } else{\n                    responses[qnum]= [ response ];\n                }\n            } else {\n                responses[qnum]= response;\n            }\n            console.log(responses);\n            responsesContainer.setAttribute('data-responses', JSON.stringify(responses));\n            printResponses(responsesContainer);\n        }\n        // End save responses stuff\n\n\n\n        var numcorrect = fb.dataset.numcorrect;\n        var answeredcorrect = fb.dataset.answeredcorrect;\n        if (answeredcorrect >= 0) {\n            fb.innerHTML = feedback + \" [\" + answeredcorrect + \"/\" + numcorrect + \"]\";\n        } else {\n            fb.innerHTML = feedback + \" [\" + 0 + \"/\" + numcorrect + \"]\";\n        }\n\n\n    }\n\n    if (typeof MathJax != 'undefined') {\n        var version = MathJax.version;\n        console.log('MathJax version', version);\n        if (version[0] == \"2\") {\n            MathJax.Hub.Queue([\"Typeset\", MathJax.Hub]);\n        } else if (version[0] == \"3\") {\n            MathJax.typeset([fb]);\n        }\n    } else {\n        console.log('MathJax not detected');\n    }\n\n}\n\n\n/* Function to produce the HTML buttons for a multiple choice/\n   many choice question  and to update the CSS tags based on\n   the question type */\nfunction make_mc(qa, shuffle_answers, outerqDiv, qDiv, aDiv, id) {\n\n    var shuffled;\n    if (shuffle_answers == \"True\") {\n        //console.log(shuffle_answers+\" read as true\");\n        shuffled = getRandomSubarray(qa.answers, qa.answers.length);\n    } else {\n        //console.log(shuffle_answers+\" read as false\");\n        shuffled = qa.answers;\n    }\n\n\n    var num_correct = 0;\n\n    shuffled.forEach((item, index, ans_array) => {\n        //console.log(answer);\n\n        // Make input element\n        var inp = document.createElement(\"input\");\n        inp.type = \"radio\";\n        inp.id = \"quizo\" + id + index;\n        inp.style = \"display:none;\";\n        aDiv.append(inp);\n\n        //Make label for input element\n        var lab = document.createElement(\"label\");\n        lab.className = \"MCButton\";\n        lab.id = id + '-' + index;\n        lab.onclick = check_mc;\n        var aSpan = document.createElement('span');\n        aSpan.classsName = \"\";\n        //qDiv.id=\"quizQn\"+id+index;\n        if (\"answer\" in item) {\n            aSpan.innerHTML = jaxify(item.answer);\n            //aSpan.innerHTML=item.answer;\n        }\n        lab.append(aSpan);\n\n        // Create div for code inside question\n        var codeSpan;\n        if (\"code\" in item) {\n            codeSpan = document.createElement('span');\n            codeSpan.id = \"code\" + id + index;\n            codeSpan.className = \"QuizCode\";\n            var codePre = document.createElement('pre');\n            codeSpan.append(codePre);\n            var codeCode = document.createElement('code');\n            codePre.append(codeCode);\n            codeCode.innerHTML = item.code;\n            lab.append(codeSpan);\n            //console.log(codeSpan);\n        }\n\n        //lab.textContent=item.answer;\n\n        // Set the data attributes for the answer\n        lab.setAttribute('data-correct', item.correct);\n        if (item.correct) {\n            num_correct++;\n        }\n        if (\"feedback\" in item) {\n            lab.setAttribute('data-feedback', item.feedback);\n        }\n        lab.setAttribute('data-answered', 0);\n\n        aDiv.append(lab);\n\n    });\n\n    if (num_correct > 1) {\n        outerqDiv.className = \"ManyChoiceQn\";\n    } else {\n        outerqDiv.className = \"MultipleChoiceQn\";\n    }\n\n    return num_correct;\n\n}\nfunction check_numeric(ths, event) {\n\n    if (event.keyCode === 13) {\n        ths.blur();\n\n        var id = ths.id.split('-')[0];\n\n        var submission = ths.value;\n        if (submission.indexOf('/') != -1) {\n            var sub_parts = submission.split('/');\n            //console.log(sub_parts);\n            submission = sub_parts[0] / sub_parts[1];\n        }\n        //console.log(\"Reader entered\", submission);\n\n        if (\"precision\" in ths.dataset) {\n            var precision = ths.dataset.precision;\n            submission = Number(Number(submission).toPrecision(precision));\n        }\n\n\n        //console.log(\"In check_numeric(), id=\"+id);\n        //console.log(event.srcElement.id)           \n        //console.log(event.srcElement.dataset.feedback)\n\n        var fb = document.getElementById(\"fb\" + id);\n        fb.style.display = \"none\";\n        fb.innerHTML = \"Incorrect -- try again.\";\n\n        var answers = JSON.parse(ths.dataset.answers);\n        //console.log(answers);\n\n        var defaultFB = \"Incorrect. Try again.\";\n        var correct;\n        var done = false;\n        answers.every(answer => {\n            //console.log(answer.type);\n\n            correct = false;\n            // if (answer.type==\"value\"){\n            if ('value' in answer) {\n                if (submission == answer.value) {\n                    if (\"feedback\" in answer) {\n                        fb.innerHTML = jaxify(answer.feedback);\n                    } else {\n                        fb.innerHTML = jaxify(\"Correct\");\n                    }\n                    correct = answer.correct;\n                    //console.log(answer.correct);\n                    done = true;\n                }\n                // } else if (answer.type==\"range\") {\n            } else if ('range' in answer) {\n                console.log(answer.range);\n                console.log(submission, submission >=answer.range[0], submission < answer.range[1])\n                if ((submission >= answer.range[0]) && (submission < answer.range[1])) {\n                    fb.innerHTML = jaxify(answer.feedback);\n                    correct = answer.correct;\n                    console.log(answer.correct);\n                    done = true;\n                }\n            } else if (answer.type == \"default\") {\n                if (\"feedback\" in answer) {\n                    defaultFB = answer.feedback;\n                } \n            }\n            if (done) {\n                return false; // Break out of loop if this has been marked correct\n            } else {\n                return true; // Keep looking for case that includes this as a correct answer\n            }\n        });\n        console.log(\"done:\", done);\n\n        if ((!done) && (defaultFB != \"\")) {\n            fb.innerHTML = jaxify(defaultFB);\n            //console.log(\"Default feedback\", defaultFB);\n        }\n\n        fb.style.display = \"block\";\n        if (correct) {\n            ths.className = \"Input-text\";\n            ths.classList.add(\"correctButton\");\n            fb.className = \"Feedback\";\n            fb.classList.add(\"correct\");\n        } else {\n            ths.className = \"Input-text\";\n            ths.classList.add(\"incorrectButton\");\n            fb.className = \"Feedback\";\n            fb.classList.add(\"incorrect\");\n        }\n\n        // What follows is for the saved responses stuff\n        var outerContainer = fb.parentElement.parentElement;\n        var responsesContainer = document.getElementById(\"responses\" + outerContainer.id);\n        if (responsesContainer) {\n            console.log(submission);\n            var qnum = document.getElementById(\"quizWrap\"+id).dataset.qnum;\n            //console.log(\"Question \" + qnum);\n            //console.log(id, \", got numcorrect=\",fb.dataset.numcorrect);\n            var responses=JSON.parse(responsesContainer.dataset.responses);\n            console.log(responses);\n            if (submission == ths.value){\n                responses[qnum]= submission;\n            } else {\n                responses[qnum]= ths.value + \"(\" + submission +\")\";\n            }\n            responsesContainer.setAttribute('data-responses', JSON.stringify(responses));\n            printResponses(responsesContainer);\n        }\n        // End code to preserve responses\n\n        if (typeof MathJax != 'undefined') {\n            var version = MathJax.version;\n            console.log('MathJax version', version);\n            if (version[0] == \"2\") {\n                MathJax.Hub.Queue([\"Typeset\", MathJax.Hub]);\n            } else if (version[0] == \"3\") {\n                MathJax.typeset([fb]);\n            }\n        } else {\n            console.log('MathJax not detected');\n        }\n        return false;\n    }\n\n}\n\nfunction isValid(el, charC) {\n    //console.log(\"Input char: \", charC);\n    if (charC == 46) {\n        if (el.value.indexOf('.') === -1) {\n            return true;\n        } else if (el.value.indexOf('/') != -1) {\n            var parts = el.value.split('/');\n            if (parts[1].indexOf('.') === -1) {\n                return true;\n            }\n        }\n        else {\n            return false;\n        }\n    } else if (charC == 47) {\n        if (el.value.indexOf('/') === -1) {\n            if ((el.value != \"\") && (el.value != \".\")) {\n                return true;\n            } else {\n                return false;\n            }\n        } else {\n            return false;\n        }\n    } else if (charC == 45) {\n        var edex = el.value.indexOf('e');\n        if (edex == -1) {\n            edex = el.value.indexOf('E');\n        }\n\n        if (el.value == \"\") {\n            return true;\n        } else if (edex == (el.value.length - 1)) { // If just after e or E\n            return true;\n        } else {\n            return false;\n        }\n    } else if (charC == 101) { // \"e\"\n        if ((el.value.indexOf('e') === -1) && (el.value.indexOf('E') === -1) && (el.value.indexOf('/') == -1)) {\n            // Prev symbol must be digit or decimal point:\n            if (el.value.slice(-1).search(/\\d/) >= 0) {\n                return true;\n            } else if (el.value.slice(-1).search(/\\./) >= 0) {\n                return true;\n            } else {\n                return false;\n            }\n        } else {\n            return false;\n        }\n    } else {\n        if (charC > 31 && (charC < 48 || charC > 57))\n            return false;\n    }\n    return true;\n}\n\nfunction numeric_keypress(evnt) {\n    var charC = (evnt.which) ? evnt.which : evnt.keyCode;\n\n    if (charC == 13) {\n        check_numeric(this, evnt);\n    } else {\n        return isValid(this, charC);\n    }\n}\n\n\n\n\n\nfunction make_numeric(qa, outerqDiv, qDiv, aDiv, id) {\n\n\n\n    //console.log(answer);\n\n\n    outerqDiv.className = \"NumericQn\";\n    aDiv.style.display = 'block';\n\n    var lab = document.createElement(\"label\");\n    lab.className = \"InpLabel\";\n    lab.innerHTML = \"Type numeric answer here:\";\n    aDiv.append(lab);\n\n    var inp = document.createElement(\"input\");\n    inp.type = \"text\";\n    //inp.id=\"input-\"+id;\n    inp.id = id + \"-0\";\n    inp.className = \"Input-text\";\n    inp.setAttribute('data-answers', JSON.stringify(qa.answers));\n    if (\"precision\" in qa) {\n        inp.setAttribute('data-precision', qa.precision);\n    }\n    aDiv.append(inp);\n    //console.log(inp);\n\n    //inp.addEventListener(\"keypress\", check_numeric);\n    //inp.addEventListener(\"keypress\", numeric_keypress);\n    /*\n    inp.addEventListener(\"keypress\", function(event) {\n        return numeric_keypress(this, event);\n    }\n                        );\n                        */\n    //inp.onkeypress=\"return numeric_keypress(this, event)\";\n    inp.onkeypress = numeric_keypress;\n    inp.onpaste = event => false;\n\n    inp.addEventListener(\"focus\", function (event) {\n        this.value = \"\";\n        return false;\n    }\n    );\n\n\n}\nfunction jaxify(string) {\n    var mystring = string;\n\n    var count = 0;\n    var loc = mystring.search(/([^\\\\]|^)(\\$)/);\n\n    var count2 = 0;\n    var loc2 = mystring.search(/([^\\\\]|^)(\\$\\$)/);\n\n    //console.log(loc);\n\n    while ((loc >= 0) || (loc2 >= 0)) {\n\n        /* Have to replace all the double $$ first with current implementation */\n        if (loc2 >= 0) {\n            if (count2 % 2 == 0) {\n                mystring = mystring.replace(/([^\\\\]|^)(\\$\\$)/, \"$1\\\\[\");\n            } else {\n                mystring = mystring.replace(/([^\\\\]|^)(\\$\\$)/, \"$1\\\\]\");\n            }\n            count2++;\n        } else {\n            if (count % 2 == 0) {\n                mystring = mystring.replace(/([^\\\\]|^)(\\$)/, \"$1\\\\(\");\n            } else {\n                mystring = mystring.replace(/([^\\\\]|^)(\\$)/, \"$1\\\\)\");\n            }\n            count++;\n        }\n        loc = mystring.search(/([^\\\\]|^)(\\$)/);\n        loc2 = mystring.search(/([^\\\\]|^)(\\$\\$)/);\n        //console.log(mystring,\", loc:\",loc,\", loc2:\",loc2);\n    }\n\n    // repace markdown style links with actual links\n    mystring = mystring.replace(/<(.*?)>/, '<a href=\"$1\" target=\"_blank\" class=\"Link\">$1</a>');\n    mystring = mystring.replace(/\\[(.*?)\\]\\((.*?)\\)/, '<a href=\"$2\" target=\"_blank\" class=\"Link\">$1</a>');\n\n    //console.log(mystring);\n    return mystring;\n}\n\n\nfunction show_questions(json, mydiv) {\n    console.log('show_questions');\n    //var mydiv=document.getElementById(myid);\n    var shuffle_questions = mydiv.dataset.shufflequestions;\n    var num_questions = mydiv.dataset.numquestions;\n    var shuffle_answers = mydiv.dataset.shuffleanswers;\n    var max_width = mydiv.dataset.maxwidth;\n\n    if (num_questions > json.length) {\n        num_questions = json.length;\n    }\n\n    var questions;\n    if ((num_questions < json.length) || (shuffle_questions == \"True\")) {\n        //console.log(num_questions+\",\"+json.length);\n        questions = getRandomSubarray(json, num_questions);\n    } else {\n        questions = json;\n    }\n\n    //console.log(\"SQ: \"+shuffle_questions+\", NQ: \" + num_questions + \", SA: \", shuffle_answers);\n\n    // Iterate over questions\n    questions.forEach((qa, index, array) => {\n        //console.log(qa.question); \n\n        var id = makeid(8);\n        //console.log(id);\n\n\n        // Create Div to contain question and answers\n        var iDiv = document.createElement('div');\n        //iDiv.id = 'quizWrap' + id + index;\n        iDiv.id = 'quizWrap' + id;\n        iDiv.className = 'Quiz';\n        iDiv.setAttribute('data-qnum', index);\n        iDiv.style.maxWidth  =max_width+\"px\";\n        mydiv.appendChild(iDiv);\n        // iDiv.innerHTML=qa.question;\n        \n        var outerqDiv = document.createElement('div');\n        outerqDiv.id = \"OuterquizQn\" + id + index;\n        // Create div to contain question part\n        var qDiv = document.createElement('div');\n        qDiv.id = \"quizQn\" + id + index;\n        \n        if (qa.question) {\n            iDiv.append(outerqDiv);\n\n            //qDiv.textContent=qa.question;\n            qDiv.innerHTML = jaxify(qa.question);\n            outerqDiv.append(qDiv);\n        }\n\n        // Create div for code inside question\n        var codeDiv;\n        if (\"code\" in qa) {\n            codeDiv = document.createElement('div');\n            codeDiv.id = \"code\" + id + index;\n            codeDiv.className = \"QuizCode\";\n            var codePre = document.createElement('pre');\n            codeDiv.append(codePre);\n            var codeCode = document.createElement('code');\n            codePre.append(codeCode);\n            codeCode.innerHTML = qa.code;\n            outerqDiv.append(codeDiv);\n            //console.log(codeDiv);\n        }\n\n\n        // Create div to contain answer part\n        var aDiv = document.createElement('div');\n        aDiv.id = \"quizAns\" + id + index;\n        aDiv.className = 'Answer';\n        iDiv.append(aDiv);\n\n        //console.log(qa.type);\n\n        var num_correct;\n        if ((qa.type == \"multiple_choice\") || (qa.type == \"many_choice\") ) {\n            num_correct = make_mc(qa, shuffle_answers, outerqDiv, qDiv, aDiv, id);\n            if (\"answer_cols\" in qa) {\n                //aDiv.style.gridTemplateColumns = 'auto '.repeat(qa.answer_cols);\n                aDiv.style.gridTemplateColumns = 'repeat(' + qa.answer_cols + ', 1fr)';\n            }\n        } else if (qa.type == \"numeric\") {\n            //console.log(\"numeric\");\n            make_numeric(qa, outerqDiv, qDiv, aDiv, id);\n        }\n\n\n        //Make div for feedback\n        var fb = document.createElement(\"div\");\n        fb.id = \"fb\" + id;\n        //fb.style=\"font-size: 20px;text-align:center;\";\n        fb.className = \"Feedback\";\n        fb.setAttribute(\"data-answeredcorrect\", 0);\n        fb.setAttribute(\"data-numcorrect\", num_correct);\n        iDiv.append(fb);\n\n\n    });\n    var preserveResponses = mydiv.dataset.preserveresponses;\n    console.log(preserveResponses);\n    console.log(preserveResponses == \"true\");\n    if (preserveResponses == \"true\") {\n        console.log(preserveResponses);\n        // Create Div to contain record of answers\n        var iDiv = document.createElement('div');\n        iDiv.id = 'responses' + mydiv.id;\n        iDiv.className = 'JCResponses';\n        // Create a place to store responses as an empty array\n        iDiv.setAttribute('data-responses', '[]');\n\n        // Dummy Text\n        iDiv.innerHTML=\"<b>Select your answers and then follow the directions that will appear here.</b>\"\n        //iDiv.className = 'Quiz';\n        mydiv.appendChild(iDiv);\n    }\n//console.log(\"At end of show_questions\");\n    if (typeof MathJax != 'undefined') {\n        console.log(\"MathJax version\", MathJax.version);\n        var version = MathJax.version;\n        setTimeout(function(){\n            var version = MathJax.version;\n            console.log('After sleep, MathJax version', version);\n            if (version[0] == \"2\") {\n                MathJax.Hub.Queue([\"Typeset\", MathJax.Hub]);\n            } else if (version[0] == \"3\") {\n                if (MathJax.hasOwnProperty('typeset') ) {\n                    MathJax.typeset([mydiv]);\n                } else {\n                    console.log('WARNING: Trying to force load MathJax 3');\n                    window.MathJax = {\n                        tex: {\n                            inlineMath: [['$', '$'], ['\\\\(', '\\\\)']]\n                        },\n                        svg: {\n                            fontCache: 'global'\n                        }\n                    };\n\n                    (function () {\n                        var script = document.createElement('script');\n                        script.src = 'https://cdn.jsdelivr.net/npm/mathjax@3/es5/tex-svg.js';\n                        script.async = true;\n                        document.head.appendChild(script);\n                    })();\n                }\n            }\n        }, 500);\nif (typeof version == 'undefined') {\n        } else\n        {\n            if (version[0] == \"2\") {\n                MathJax.Hub.Queue([\"Typeset\", MathJax.Hub]);\n            } else if (version[0] == \"3\") {\n                if (MathJax.hasOwnProperty('typeset') ) {\n                    MathJax.typeset([mydiv]);\n                } else {\n                    console.log('WARNING: Trying to force load MathJax 3');\n                    window.MathJax = {\n                        tex: {\n                            inlineMath: [['$', '$'], ['\\\\(', '\\\\)']]\n                        },\n                        svg: {\n                            fontCache: 'global'\n                        }\n                    };\n\n                    (function () {\n                        var script = document.createElement('script');\n                        script.src = 'https://cdn.jsdelivr.net/npm/mathjax@3/es5/tex-svg.js';\n                        script.async = true;\n                        document.head.appendChild(script);\n                    })();\n                }\n            } else {\n                console.log(\"MathJax not found\");\n            }\n        }\n    }\n\n    // stop event propagation for the .Link class\n    var links = document.getElementsByClassName('Link')\n    for (var i = 0; i < links.length; i++) {\n        links[i].addEventListener('click', function(e){\n            e.stopPropagation();\n        });\n    }\n\n    return false;\n}\n/* This is to handle asynchrony issues in loading Jupyter notebooks\n           where the quiz has been previously run. The Javascript was generally\n           being run before the div was added to the DOM. I tried to do this\n           more elegantly using Mutation Observer, but I didn't get it to work.\n\n           Someone more knowledgeable could make this better ;-) */\n\n        function try_show() {\n          if(document.getElementById(\"YvHGaNgtKmdS\")) {\n            show_questions(questionsYvHGaNgtKmdS,  YvHGaNgtKmdS); \n          } else {\n             setTimeout(try_show, 200);\n          }\n        };\n    \n        {\n        // console.log(element);\n\n        //console.log(\"YvHGaNgtKmdS\");\n        // console.log(document.getElementById(\"YvHGaNgtKmdS\"));\n\n        try_show();\n        }\n        ",
      "text/plain": [
       "<IPython.core.display.Javascript object>"
      ]
     },
     "metadata": {},
     "output_type": "display_data"
    }
   ],
   "source": [
    "from jupyterquiz import display_quiz\n",
    "display_quiz(\"../quiz-material/01-cp1.json\", shuffle_questions = True)"
   ]
  },
  {
   "cell_type": "markdown",
   "id": "8d3cf5c9",
   "metadata": {},
   "source": [
    "## Conclusion\n",
    "\n",
    "This introductory Jupyter Notebook provided essential background information and a pre-requisite knowledge check on fundamental molecular biology concepts (DNA, RNA, transcription, gene expression) crucial for understanding transcriptome assembly. The notebook established the context for the subsequent modules, outlining the workflow involving RNA-seq data, transcriptome assembly techniques (including de Bruijn graphs, BUSCO analysis), and the use of Nextflow and AWS Batch API for efficient workflow execution and management. The inclusion of interactive quizzes and video resources enhanced learning and engagement, preparing learners for the practical applications and computational challenges presented in the following notebooks. Successful completion of the checkpoint quizzes demonstrates readiness to proceed to the next stage of the MDIBL Transcriptome Assembly Learning Module."
   ]
  },
  {
   "cell_type": "markdown",
   "id": "421cebc3",
   "metadata": {},
   "source": [
    "## Clean Up\n",
    "\n",
    "Remember to proceed to the next notebook [`Submodule_2_annotation_only.ipynb`](./Submodule_2_annotation_only.ipynb) or shut down your instance if you are finished."
   ]
  }
 ],
 "metadata": {
  "language_info": {
   "name": "python"
  }
 },
 "nbformat": 4,
 "nbformat_minor": 5
}
