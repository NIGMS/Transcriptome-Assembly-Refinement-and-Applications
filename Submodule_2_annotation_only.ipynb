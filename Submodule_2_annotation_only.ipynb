{
 "cells": [
  {
   "cell_type": "markdown",
   "id": "b3ea1e55-d687-4189-b90f-5ce35b3c89de",
   "metadata": {},
   "source": [
    "# MDIBL Transcriptome Assembly Learning Module\n",
    "# Notebook 3: Using TransPi to Performing an \"Annotation Only\" Run\n",
    "\n",
    "## Overview\n",
    "\n",
    "In the previous notebook, we ran the entire default TransPi workflow, generating a small transcriptome from a test data set. While that is a valid exercise in carrying through the workflow, the downstream steps (annotation and assessment) will be unrealistic in their output, since the test set will only generate a few hundred transcripts. In contrast, a more complete estimate of a vertebrate transcriptome will contain tens to hundreds of thousands of transcripts.\n",
    "\n",
    "In this notebook, we will start from an assembled transcriptome. We will work with a more realistic example that was generated and submitted to the NCBI Transcriptome Shotgun Assembly archive.\n"
   ]
  },
  {
   "cell_type": "markdown",
   "id": "8f4cd172",
   "metadata": {},
   "source": [
    "## Learning Objectives:\n",
    "\n",
    "1. **Understanding the TransPi workflow and its components:** The notebook builds upon previous knowledge of TransPi, focusing on the annotation stage, separating it from the assembly process.  It reinforces the understanding of the overall workflow and its different stages.\n",
    "\n",
    "2. **Performing an \"annotation-only\" run with TransPi:** The primary objective is to learn how to execute TransPi, specifically utilizing the `--onlyAnn` option to process a pre-assembled transcriptome. This teaches efficient use of the tool and avoids unnecessary recomputation.\n",
    "\n",
    "3. **Working with realistic transcriptome data:** The notebook shifts from a small test dataset to a larger, more realistic transcriptome from the NCBI Transcriptome Shotgun Assembly archive. This exposes learners to the scale and characteristics of real-world transcriptome data.\n",
    "\n",
    "4. **Using command-line tools for data manipulation:**  The notebook uses `grep`, `perl` one-liners, and `docker` commands to count sequences, modify configuration files, and manage containerized applications. This improves proficiency in using these essential bioinformatics tools.\n",
    "\n",
    "5. **Interpreting TransPi output:**  Learners analyze the `RUN_INFO.txt` file and other output files to understand the analysis parameters and results. This develops skills in interpreting computational biology results.\n",
    "\n",
    "6. **Understanding and using containerization (Docker):** The notebook introduces the concept of Docker containers and demonstrates how to utilize a BUSCO container to run the BUSCO analysis, highlighting the benefits of containerization for reproducibility and dependency management.  This teaches practical application of containers in bioinformatics.\n",
    "\n",
    "7. **Running BUSCO analysis:** Learners execute BUSCO, a crucial tool for assessing the completeness of transcriptome assemblies. This extends their skillset to include running and interpreting BUSCO results.\n",
    "\n",
    "8. **Interpreting BUSCO and other annotation results:**  The notebook includes checkpoints that challenge learners to interpret the BUSCO results, GO stats, and TransDecoder stats, fostering critical thinking and data interpretation skills.\n",
    "\n",
    "9. **Critical evaluation of data sources:** The notebook encourages learners to consider the source and context of the transcriptome data used, prompting reflection on data quality and limitations.  This emphasizes responsible use of biological data.\n",
    "\n",
    "10. **Independent BUSCO analysis:**  The final checkpoint task requires learners to independently run a BUSCO analysis on a new transcriptome, selecting a data source and lineage, and interpreting the results. This assesses the understanding and practical application of the concepts covered in the notebook."
   ]
  },
  {
   "cell_type": "markdown",
   "id": "04994736",
   "metadata": {},
   "source": [
    "## Prerequisites\n",
    "\n",
    "* **Nextflow:** The core workflow engine used to manage the TransPi pipeline.\n",
    "* **Perl:** Used for a one-liner to modify the Nextflow configuration file.\n",
    "* **Docker:** Used to run BUSCO in a containerized environment.\n",
    "* **BUSCO:** The Benchmarking Universal Single-Copy Orthologs program for assessing genome completeness.\n",
    "* **TransPi:**  The specific transcriptome assembly pipeline.  The notebook assumes this is pre-installed or available through Nextflow.\n",
    "* **Command-line tools:** Basic Unix command-line utilities like `grep`, `ls`, `cat`, `pwd`, etc., are used throughout the notebook."
   ]
  },
  {
   "cell_type": "markdown",
   "id": "16adea33",
   "metadata": {},
   "source": [
    "## Get Started"
   ]
  },
  {
   "cell_type": "code",
   "execution_count": null,
   "id": "6b81dff4-64b8-42ca-91b5-6ad4cef392ff",
   "metadata": {},
   "outputs": [],
   "source": [
    "#Run the command below to watch the video\n",
    "from IPython.display import YouTubeVideo\n",
    "\n",
    "YouTubeVideo('AGuUHmSobEA', width=800, height=400)"
   ]
  },
  {
   "cell_type": "markdown",
   "id": "dc4cd97f-fc62-40ab-badc-ba0bc6f092e4",
   "metadata": {},
   "source": [
    "> <img src=\"../images/AnnotationProcess.png\" width=\"800\">\n",
    ">\n",
    "> **Figure 1:** Annotation workflow for a new, unannotated transcriptome. "
   ]
  },
  {
   "cell_type": "code",
   "execution_count": null,
   "id": "62a48fca-ab66-4b62-8a33-d8104dffe1e3",
   "metadata": {},
   "outputs": [],
   "source": [
    "%cd /home/jupyter"
   ]
  },
  {
   "cell_type": "code",
   "execution_count": null,
   "id": "8157e9a9-3457-40cc-9405-91903564d0dd",
   "metadata": {},
   "outputs": [],
   "source": [
    "! pwd"
   ]
  },
  {
   "cell_type": "markdown",
   "id": "a4f6b740-f02c-4993-b082-8cb58fc46e7b",
   "metadata": {},
   "source": [
    "<div class=\"alert alert-block alert-success\">\n",
    "    <i class=\"fa fa-hand-paper-o\" aria-hidden=\"true\"></i>\n",
    "    <b>Note: </b>  The Transcriptome\n",
    "</div>\n",
    "\n",
    "> The transcriptome that we are using has already been downloaded onto your local directory. It lives within the `resources` directory in the sub-directory named `trans`. It is in the file format `.fa`."
   ]
  },
  {
   "cell_type": "markdown",
   "id": "3755b541-007b-4773-a53e-f01eee1ed570",
   "metadata": {},
   "source": [
    "**Step 2:** Count the sequences in this file.\n",
    "\n",
    "> You should get a count of 31,176."
   ]
  },
  {
   "cell_type": "code",
   "execution_count": null,
   "id": "0db05d70-513c-4ef4-92d6-8253562b43b7",
   "metadata": {},
   "outputs": [],
   "source": [
    "! grep -c \">\" ./resources/trans/Oncorhynchus_mykiss_GGBN01.1.fa"
   ]
  },
  {
   "cell_type": "markdown",
   "id": "7065fc1a-0a64-447c-8628-b20d5277dd3b",
   "metadata": {},
   "source": [
    "<div class=\"alert alert-block alert-success\">\n",
    "    <i class=\"fa fa-hand-paper-o\" aria-hidden=\"true\"></i>\n",
    "    <b>Note: </b>  What is the Oncorhynchus mykiss?\n",
    "</div>\n",
    "\n",
    "> The Oncorhynchus mykiss is commonly known as the **Rainbow Trout**. Here is what they look like:\n",
    ">\n",
    "> <img src=\"../images/rainbowTrout.jpeg\"  width=\"500\" >\n",
    "> \n",
    ">> Image Source: https://www.ndow.org/species/rainbow-trout/"
   ]
  },
  {
   "cell_type": "markdown",
   "id": "8e2d2315-3cdd-4a5c-b58b-6f5621d53abf",
   "metadata": {},
   "source": [
    "**Step 3:** Using a Perl one-liner, we will change the output directory so that the results from the `--all` run in Submodule 02 do not get overwritten."
   ]
  },
  {
   "cell_type": "code",
   "execution_count": null,
   "id": "fffd96c6-b4b1-4d9c-b50b-4aa2261a193f",
   "metadata": {},
   "outputs": [],
   "source": [
    "# TransPi looks for a directory named onlyAnn. It expects one file per sample to perform the annotation\n",
    "! mkdir -p onlyAnn\n",
    "! cp ./resources/trans/Oncorhynchus_mykiss_GGBN01.1.fa  ./onlyAnn/Oncorhynchus_mykiss_GGBN01.1.fa"
   ]
  },
  {
   "cell_type": "code",
   "execution_count": null,
   "id": "f2061d9d-c85a-49a0-b06d-7ecd95fb5534",
   "metadata": {},
   "outputs": [],
   "source": [
    "! perl -i.allloc -pe 's/basicRun/onlyAnnRun/g' ./TransPi/nextflow.config"
   ]
  },
  {
   "cell_type": "markdown",
   "id": "7bb26ca2-329a-4416-97c4-190a0759790c",
   "metadata": {},
   "source": [
    "<div class=\"alert alert-block alert-success\">\n",
    "    <i class=\"fa fa-hand-paper-o\" aria-hidden=\"true\"></i>\n",
    "    <b>Note: </b>  Perl\n",
    "</div>\n",
    "\n",
    "> <img src=\"../images/perl-logo.png\" width=\"500\">\n",
    ">\n",
    ">> Image Source: https://medium.com/@aman_adastra/techspace-what-is-perl-1e29a430676c\n",
    ">\n",
    ">**Mini History Lesson on Perl**\n",
    ">\n",
    ">So what is `Perl`? Surprisingly, there is no original acronym for the name, however, some have retroactively given this one: *Practical Extraction and Reporting Language*. It has aspects of many different programming languages and has a broad variety of applications. It was created as a text manipulation language by an expert in linguistics: Larry Wall. Interestingly, Larry Wall became a linguistic expert not to create a programming language but rather as a project to develop a written language for an exclusively oral language in Africa.\n",
    ">\n",
    ">**Comprehending the Perl one-liner**\n",
    ">```python\n",
    "!perl -i.allloc -pe 's/basicRun/onlyAnnRun/g' ./TransPi/nextflow.config\n",
    ">```\n",
    ">- `!`: This indicates that the line is to be executed as a command line argument. \n",
    ">- `perl`: This indicates that the argument is in the Perl programming language.\n",
    ">- `-i.allloc`: This indicates that Perl should edit the input file and create a backup of this file with the added `.allloc` extension.\n",
    ">- `-pe`: These are actually two separate options...\n",
    "    - `-p`: This indicates that each line in the file is to be interpreted independently and printed after it has been processed. \n",
    "    - `-e`: This indicates that the Perl command is to be executed. \n",
    ">- `'s/basicRun/onlyAnnRun/g'`: This is the meat of the Perl one-liner. It is essentially a search and replace.\n",
    "    - It searches for all occurrences of the string `basicRun`, and replaces it with the string `onlyAnnRun`.\n",
    ">- `./TransPi/nextflow.config`: This points to the location of the input file."
   ]
  },
  {
   "cell_type": "markdown",
   "id": "8e1541b9-abb6-47c0-aa49-5c1720680376",
   "metadata": {},
   "source": [
    "**Step 4:** Now we can run TransPi using the option `--onlyAnn` which assumes that the transcriptome has been generated, and will only run the various steps for annotation of the transcripts.\n",
    "\n",
    ">This run should take about **29 minutes**, assuming an N1 high-memory, 16 processor 104GB instance."
   ]
  },
  {
   "cell_type": "code",
   "execution_count": 2,
   "id": "36e41f8e-389a-4418-985f-a93b3ba7a093",
   "metadata": {},
   "outputs": [],
   "source": [
    "%%capture\n",
    "! mamba create  -n nextflow -c bioconda nextflow -y\n",
    "! mamba install -n nextflow ipykernel -y"
   ]
  },
  {
   "cell_type": "markdown",
   "id": "599c99ae-ac9e-4648-893e-85931fc62398",
   "metadata": {},
   "source": [
    "<div class=\\\"alert alert-block alert-danger\\\">\n",
    "    <i class=\\\"fa fa-exclamation-circle\\\" aria-hidden=\\\"true\\\"></i>\n",
    "    <b>Alert: </b> Remember to change your kernel to <b>conda_nextflow_22_10_1</b> to run nextflow.\n",
    "    </div>"
   ]
  },
  {
   "cell_type": "code",
   "execution_count": null,
   "id": "3bb702b3-0a36-4a32-aca5-50dc75f9d401",
   "metadata": {},
   "outputs": [
    {
     "name": "stdout",
     "output_type": "stream",
     "text": [
      "\n",
      "\u001b[1m\u001b[38;5;232m\u001b[48;5;43m N E X T F L O W \u001b[0;2m  ~  \u001b[mversion 24.10.6\u001b[m\n",
      "\u001b[K\n",
      "Launching\u001b[35m `./denovotranscript/main.nf` \u001b[0;2m[\u001b[0;1;36mnostalgic_lovelace\u001b[0;2m] DSL2 - \u001b[36mrevision: \u001b[0;36me7227e7015\u001b[m\n",
      "\u001b[K\n",
      "Downloading plugin nf-wave@1.7.5\n",
      "\n",
      "-\u001b[2m----------------------------------------------------\u001b[0m-\n",
      "                                        \u001b[0;32m,--.\u001b[0;30m/\u001b[0;32m,-.\u001b[0m\n",
      "\u001b[0;34m        ___     __   __   __   ___     \u001b[0;32m/,-._.--~'\u001b[0m\n",
      "\u001b[0;34m  |\\ | |__  __ /  ` /  \\ |__) |__         \u001b[0;33m}  {\u001b[0m\n",
      "\u001b[0;34m  | \\| |       \\__, \\__/ |  \\ |___     \u001b[0;32m\\`-._,-`-,\u001b[0m\n",
      "                                        \u001b[0;32m`._,._,'\u001b[0m\n",
      "\u001b[0;35m  nf-core/denovotranscript 1.2.0\u001b[0m\n",
      "-\u001b[2m----------------------------------------------------\u001b[0m-\n",
      "\u001b[1mInput/output options\u001b[0m\n",
      "  \u001b[0;34minput              : \u001b[0;32m./denovotranscript/test_samplesheet.csv\u001b[0m\n",
      "  \u001b[0;34moutdir             : \u001b[0;32ms3://hadi-test-transcriptome/outdir_transcriptome4/\u001b[0m\n",
      "  \u001b[0;34mtranscript_fasta   : \u001b[0;32ms3://nigms-sandbox/nosi-inbremaine-storage/resources/trans/Oncorhynchus_mykiss_GGBN01.1.fa\u001b[0m\n",
      "\n",
      "\u001b[1mBUSCO options\u001b[0m\n",
      "  \u001b[0;34mbusco_lineage      : \u001b[0;32mvertebrata_odb10\u001b[0m\n",
      "\n",
      "\u001b[1mGeneric options\u001b[0m\n",
      "  \u001b[0;34mtrace_report_suffix: \u001b[0;32m2025-04-25_04-40-28\u001b[0m\n",
      "\n",
      "\u001b[1mTransPi specific options\u001b[0m\n",
      "  \u001b[0;34mrun_mode           : \u001b[0;32mannotation_only\u001b[0m\n",
      "\n",
      "\u001b[1mCore Nextflow options\u001b[0m\n",
      "  \u001b[0;34mrunName            : \u001b[0;32mnostalgic_lovelace\u001b[0m\n",
      "  \u001b[0;34mlaunchDir          : \u001b[0;32m/home/ec2-user/SageMaker/Transcriptome-Assembly-Refinement-and-Applications/AWS\u001b[0m\n",
      "  \u001b[0;34mworkDir            : \u001b[0;32m/hadi-test-transcriptome/work_transcriptome4\u001b[0m\n",
      "  \u001b[0;34mprojectDir         : \u001b[0;32m/home/ec2-user/SageMaker/Transcriptome-Assembly-Refinement-and-Applications/AWS/denovotranscript\u001b[0m\n",
      "  \u001b[0;34muserName           : \u001b[0;32mec2-user\u001b[0m\n",
      "  \u001b[0;34mprofile            : \u001b[0;32maws\u001b[0m\n",
      "  \u001b[0;34mconfigFiles        : \u001b[0;32m/home/ec2-user/SageMaker/Transcriptome-Assembly-Refinement-and-Applications/AWS/denovotranscript/nextflow.config\u001b[0m\n",
      "\n",
      "!! Only displaying parameters that differ from the pipeline defaults !!\n",
      "-\u001b[2m----------------------------------------------------\u001b[0m-\n",
      "* The pipeline\n",
      "    https://doi.org/10.5281/zenodo.13324371\n",
      "\n",
      "* The nf-core framework\n",
      "    https://doi.org/10.1038/s41587-020-0439-x\n",
      "\n",
      "* Software dependencies\n",
      "    https://github.com/nf-core/denovotranscript/blob/master/CITATIONS.md\n",
      "\n",
      "\u001b[33mWARN: The following invalid input values have been detected:\n",
      "\n",
      "* --trinotate_db: null\n",
      "* --transdecoder_args: \n",
      "* --trinotate_args:\n",
      "\n",
      "\u001b[39m\u001b[K\n",
      "\u001b[33mWARN: Unused parameter: Ignoring --transcript_fasta as pipeline was not launched with --skip_assembly mode.\u001b[39m\u001b[K\n",
      "\u001b[2m[\u001b[0;34m-        \u001b[0;2m] \u001b[0;2mNFC…T:DENOVOTRANSCRIPT:\u001b[mMULTIQC -\u001b[K\n",
      "\u001b[2A\n",
      "\u001b[2m[\u001b[0;34m-        \u001b[0;2m] \u001b[0;2mNFC…T:DENOVOTRANSCRIPT:\u001b[mMULTIQC\u001b[2m |\u001b[m 0 of 1\u001b[K\n",
      "\u001b[2A\n",
      "\u001b[2mexecutor >  awsbatch (fusion enabled) (1)\u001b[m\u001b[K\n",
      "\u001b[2m[\u001b[0;34mdd/892ee0\u001b[0;2m] \u001b[0;2mNFC…T:DENOVOTRANSCRIPT:\u001b[mMULTIQC\u001b[2m |\u001b[m 0 of 1\u001b[K\n"
     ]
    }
   ],
   "source": [
    "! nextflow run ./denovotranscript/main.nf --input ./denovotranscript/test_samplesheet.csv -profile aws --run_mode annotation_only \\\n",
    "  --transcript_fasta s3://nigms-sandbox/nosi-inbremaine-storage/resources/trans/Oncorhynchus_mykiss_GGBN01.1.fa"
   ]
  },
  {
   "cell_type": "markdown",
   "id": "8a0f8dfb-366d-4e0f-af4e-d96f6ee97d34",
   "metadata": {},
   "source": [
    "**Step 5:** As with the basic assembly example of the last workbook, the output will be arranged in a directory structure that is automatically created by Nextflow. Let's get a listing."
   ]
  },
  {
   "cell_type": "code",
   "execution_count": 3,
   "id": "9458f219-af9a-47d5-bb6d-300399801319",
   "metadata": {},
   "outputs": [
    {
     "name": "stdout",
     "output_type": "stream",
     "text": [
      "download: s3://hadi-test-transcriptome/outdir_transcriptome4/multiqc/multiqc_data/multiqc_citations.txt to outdir_transcriptome4/multiqc/multiqc_data/multiqc_citations.txt\n",
      "download: s3://hadi-test-transcriptome/outdir_transcriptome4/multiqc/multiqc_data/multiqc.log to outdir_transcriptome4/multiqc/multiqc_data/multiqc.log\n",
      "download: s3://hadi-test-transcriptome/outdir_transcriptome4/multiqc/multiqc_data/multiqc_sources.txt to outdir_transcriptome4/multiqc/multiqc_data/multiqc_sources.txt\n",
      "download: s3://hadi-test-transcriptome/outdir_transcriptome4/pipeline_info/nf_core_denovotranscript_software_mqc_versions.yml to outdir_transcriptome4/pipeline_info/nf_core_denovotranscript_software_mqc_versions.yml\n",
      "download: s3://hadi-test-transcriptome/outdir_transcriptome4/multiqc/multiqc_data/multiqc_software_versions.txt to outdir_transcriptome4/multiqc/multiqc_data/multiqc_software_versions.txt\n",
      "download: s3://hadi-test-transcriptome/outdir_transcriptome4/pipeline_info/params_2025-04-25_03-08-57.json to outdir_transcriptome4/pipeline_info/params_2025-04-25_03-08-57.json\n",
      "download: s3://hadi-test-transcriptome/outdir_transcriptome4/pipeline_info/execution_trace_2025-04-25_03-14-13.txt to outdir_transcriptome4/pipeline_info/execution_trace_2025-04-25_03-14-13.txt\n",
      "download: s3://hadi-test-transcriptome/outdir_transcriptome4/multiqc/multiqc_data/multiqc_data.json to outdir_transcriptome4/multiqc/multiqc_data/multiqc_data.json\n",
      "download: s3://hadi-test-transcriptome/outdir_transcriptome4/pipeline_info/pipeline_dag_2025-04-25_03-14-13.html to outdir_transcriptome4/pipeline_info/pipeline_dag_2025-04-25_03-14-13.html\n",
      "download: s3://hadi-test-transcriptome/outdir_transcriptome4/pipeline_info/params_2025-04-25_03-14-21.json to outdir_transcriptome4/pipeline_info/params_2025-04-25_03-14-21.json\n",
      "download: s3://hadi-test-transcriptome/outdir_transcriptome4/multiqc/multiqc_report.html to outdir_transcriptome4/multiqc/multiqc_report.html\n",
      "download: s3://hadi-test-transcriptome/outdir_transcriptome4/pipeline_info/execution_timeline_2025-04-25_03-14-13.html to outdir_transcriptome4/pipeline_info/execution_timeline_2025-04-25_03-14-13.html\n",
      "download: s3://hadi-test-transcriptome/outdir_transcriptome4/pipeline_info/execution_report_2025-04-25_03-14-13.html to outdir_transcriptome4/pipeline_info/execution_report_2025-04-25_03-14-13.html\n"
     ]
    }
   ],
   "source": [
    "! mkdir -p outdir_transcriptome4\n",
    "! aws s3 cp --recursive s3://hadi-test-transcriptome/outdir_transcriptome4/ ./outdir_transcriptome4"
   ]
  },
  {
   "cell_type": "code",
   "execution_count": null,
   "id": "595a199f-f19b-42a8-b63d-ca2a4b8e35e0",
   "metadata": {},
   "outputs": [],
   "source": [
    "! ls -l ./onlyAnnRun/output"
   ]
  },
  {
   "cell_type": "markdown",
   "id": "f3255502-270c-4ebb-9f72-141c4fab5c0f",
   "metadata": {},
   "source": [
    "**Step 6:** Let's take a look at the `RUN_INFO.txt` file to see what the parameters and programs associated with our analysis were."
   ]
  },
  {
   "cell_type": "code",
   "execution_count": null,
   "id": "a14265d6-bd68-4f08-a55e-c472c3f23faa",
   "metadata": {},
   "outputs": [],
   "source": [
    "! cat ./onlyAnnRun/output/RUN_INFO.txt"
   ]
  },
  {
   "cell_type": "markdown",
   "id": "4187a790-276c-4bf2-8ce8-2f7985e8c662",
   "metadata": {},
   "source": [
    "<div class=\"alert alert-block alert-success\">\n",
    "    <i class=\"fa fa-hand-paper-o\" aria-hidden=\"true\"></i>\n",
    "    <b>Note: </b>  Containers\n",
    "</div>\n",
    "\n",
    ">Note that while the \"onlyAnn\" run carries out the searches against Pfam and the BLAS analysis against known proteins, it does not carry out the BUSCO analysis. We can make that happen ourselves however, to do so, we need to learn a little bit about running programs from containers.\n",
    ">\n",
    ">Container systems (and associated images) are one approach that simplifies the use of a broad set of programs, such as is commonly found in the wide field of computational biology. To put it concisely, most programs are not \"stand-alone\" but instead rely upon at least a few supporting libraries or auxiliary programs.  Since many analyses require multiple programs, installation of the necessary programs will also require installation of the supporting components, and critically *sometimes the supporting components of one program conflict with those of other programs.* \n",
    ">\n",
    ">Container systems ([Docker](https://www.docker.com/) and [Singularity](https://sylabs.io/singularity/) are the two most well-known examples) address this by installing and encapsulating the program and all of its necessary supporting components in an image. Each program is then executed in the context of its container image, which is activated just long enough to run its program.\n",
    ">\n",
    ">Because of the way that we have run the TransPi workflow in the previous, our system will already have several container images installed. We can now work directly with these images.\n",
    "\n",
    "**Step 7:** Start by getting a listing of the images that are currently loaded."
   ]
  },
  {
   "cell_type": "code",
   "execution_count": 1,
   "id": "7888742e-67f9-4f42-8a22-ee3314e9bdf7",
   "metadata": {},
   "outputs": [
    {
     "name": "stdout",
     "output_type": "stream",
     "text": [
      "REPOSITORY   TAG       IMAGE ID   CREATED   SIZE\n"
     ]
    }
   ],
   "source": []
  },
  {
   "cell_type": "markdown",
   "id": "ec2fed5f-0d41-4fc3-8a7c-2600e2993490",
   "metadata": {},
   "source": [
    "**Step 8:** Activate the BUSCO container.\n",
    ">We want the Docker image that contains the program (and all necessary infrastructure) for running the BUSCO analysis. The name is in the first column, but we also need the version number, which is in the second column. So let's put that together and first activate the container and ask it to run BUSCO and just give us back the help message.\n",
    ">\n",
    ">We will use the `docker run` command, and we will use the following options with it:\n",
    ">- `-it`, which means run interactively\n",
    ">- `--rm`, which means clean up after shutting down\n",
    ">- `--volume /home:/home` This is critical because, by default, a Docker image can only see the file system inside of the container image. We need to have it see our working directory, so we create a volume mapping. For simplicity, we will just map the /home directory outside the container to the same address inside. This will let us access and use all of the files that are below `/home`."
   ]
  },
  {
   "cell_type": "code",
   "execution_count": 2,
   "id": "61d9539e-5f1f-4590-9b1b-1a20231acd13",
   "metadata": {},
   "outputs": [
    {
     "name": "stdout",
     "output_type": "stream",
     "text": [
      "Unable to find image 'quay.io/biocontainers/busco:5.4.3--pyhdfd78af_0' locally\n",
      "5.4.3--pyhdfd78af_0: Pulling from biocontainers/busco\n",
      "\n",
      "\u001b[1Be4ea0c21: Pulling fs layer \n",
      "\u001b[1B31c155bd: Pulling fs layer \n",
      "\u001b[1B2cc046f2: Pulling fs layer \n",
      "\u001b[1Bd128f22b: Pulling fs layer \n",
      "\u001b[1B339ca1e8: Pulling fs layer \n",
      "\u001b[1BDigest: sha256:b431b3c85a98787c60ffd2be6bbd2869dfdbbfbd5bc74ad02f156651ea357e80\n",
      "Status: Downloaded newer image for quay.io/biocontainers/busco:5.4.3--pyhdfd78af_0\n",
      "usage: busco -i [SEQUENCE_FILE] -l [LINEAGE] -o [OUTPUT_NAME] -m [MODE] [OTHER OPTIONS]\n",
      "\n",
      "Welcome to BUSCO 5.4.3: the Benchmarking Universal Single-Copy Ortholog assessment tool.\n",
      "For more detailed usage information, please review the README file provided with this distribution and the BUSCO user guide. Visit this page https://gitlab.com/ezlab/busco#how-to-cite-busco to see how to cite BUSCO\n",
      "\n",
      "optional arguments:\n",
      "  -i SEQUENCE_FILE, --in SEQUENCE_FILE\n",
      "                        Input sequence file in FASTA format. Can be an assembled genome or transcriptome (DNA), or protein sequences from an annotated gene set. Also possible to use a path to a directory containing multiple input files.\n",
      "  -o OUTPUT, --out OUTPUT\n",
      "                        Give your analysis run a recognisable short name. Output folders and files will be labelled with this name. The path to the output folder is set with --out_path.\n",
      "  -m MODE, --mode MODE  Specify which BUSCO analysis mode to run.\n",
      "                        There are three valid modes:\n",
      "                        - geno or genome, for genome assemblies (DNA)\n",
      "                        - tran or transcriptome, for transcriptome assemblies (DNA)\n",
      "                        - prot or proteins, for annotated gene sets (protein)\n",
      "  -l LINEAGE, --lineage_dataset LINEAGE\n",
      "                        Specify the name of the BUSCO lineage to be used.\n",
      "  --augustus            Use augustus gene predictor for eukaryote runs\n",
      "  --augustus_parameters --PARAM1=VALUE1,--PARAM2=VALUE2\n",
      "                        Pass additional arguments to Augustus. All arguments should be contained within a single string with no white space, with each argument separated by a comma.\n",
      "  --augustus_species AUGUSTUS_SPECIES\n",
      "                        Specify a species for Augustus training.\n",
      "  --auto-lineage        Run auto-lineage to find optimum lineage path\n",
      "  --auto-lineage-euk    Run auto-placement just on eukaryote tree to find optimum lineage path\n",
      "  --auto-lineage-prok   Run auto-lineage just on non-eukaryote trees to find optimum lineage path\n",
      "  -c N, --cpu N         Specify the number (N=integer) of threads/cores to use.\n",
      "  --config CONFIG_FILE  Provide a config file\n",
      "  --contig_break n      Number of contiguous Ns to signify a break between contigs. Default is n=10.\n",
      "  --datasets_version DATASETS_VERSION\n",
      "                        Specify the version of BUSCO datasets, e.g. odb10\n",
      "  --download [dataset ...]\n",
      "                        Download dataset. Possible values are a specific dataset name, \"all\", \"prokaryota\", \"eukaryota\", or \"virus\". If used together with other command line arguments, make sure to place this last.\n",
      "  --download_base_url DOWNLOAD_BASE_URL\n",
      "                        Set the url to the remote BUSCO dataset location\n",
      "  --download_path DOWNLOAD_PATH\n",
      "                        Specify local filepath for storing BUSCO dataset downloads\n",
      "  -e N, --evalue N      E-value cutoff for BLAST searches. Allowed formats, 0.001 or 1e-03 (Default: 1e-03)\n",
      "  -f, --force           Force rewriting of existing files. Must be used when output files with the provided name already exist.\n",
      "  -h, --help            Show this help message and exit\n",
      "  --limit N             How many candidate regions (contig or transcript) to consider per BUSCO (default: 3)\n",
      "  --list-datasets       Print the list of available BUSCO datasets\n",
      "  --long                Optimization Augustus self-training mode (Default: Off); adds considerably to the run time, but can improve results for some non-model organisms\n",
      "  --metaeuk_parameters \"--PARAM1=VALUE1,--PARAM2=VALUE2\"\n",
      "                        Pass additional arguments to Metaeuk for the first run. All arguments should be contained within a single string with no white space, with each argument separated by a comma.\n",
      "  --metaeuk_rerun_parameters \"--PARAM1=VALUE1,--PARAM2=VALUE2\"\n",
      "                        Pass additional arguments to Metaeuk for the second run. All arguments should be contained within a single string with no white space, with each argument separated by a comma.\n",
      "  --offline             To indicate that BUSCO cannot attempt to download files\n",
      "  --out_path OUTPUT_PATH\n",
      "                        Optional location for results folder, excluding results folder name. Default is current working directory.\n",
      "  -q, --quiet           Disable the info logs, displays only errors\n",
      "  -r, --restart         Continue a run that had already partially completed.\n",
      "  --scaffold_composition\n",
      "                        Writes ACGTN content per scaffold to a file scaffold_composition.txt\n",
      "  --tar                 Compress some subdirectories with many files to save space\n",
      "  --update-data         Download and replace with last versions all lineages datasets and files necessary to their automated selection\n",
      "  -v, --version         Show this version and exit\n"
     ]
    }
   ],
   "source": [
    "! docker run -it --rm --volume /home:/home quay.io/biocontainers/busco:5.4.3--pyhdfd78af_0 busco --help"
   ]
  },
  {
   "cell_type": "code",
   "execution_count": 3,
   "id": "f04ac358-15d1-4d97-99db-b0d4a7a6ccc3",
   "metadata": {},
   "outputs": [
    {
     "name": "stdout",
     "output_type": "stream",
     "text": [
      "REPOSITORY                    TAG                   IMAGE ID       CREATED       SIZE\n",
      "quay.io/biocontainers/busco   5.4.3--pyhdfd78af_0   ffaf468e7f06   2 years ago   2.18GB\n"
     ]
    }
   ],
   "source": [
    "! docker images"
   ]
  },
  {
   "cell_type": "markdown",
   "id": "c282b861-9616-4c07-98cf-bbe0b96747c1",
   "metadata": {},
   "source": [
    "**Step 9:** Run BUSCO (in the container)\n",
    ">Now we will fill out a complete command and ask BUSCO to analyze the same trout data that we just used above. Here is the full command needed to make this run go. A lot is going on here:\n",
    ">\n",
    ">- `-i /home/jupyter/resources/trans/Oncorhynchus_mykiss_GGBN01.1.fa`: this points to the location and name of the file to be examined.\n",
    ">- `-l vertebrata_odb10`: this tells BUSCO to use the vertebrata gene set (genes common to vertebrates) as the target.\n",
    ">- `-o GGBN01_busco_vertebrata`: this tells BUSCO to use this as the label for the output.\n",
    ">- `--out_path /home/jupyter/buscoOutput`: this tells BUSCO where to put the output directory. \n",
    ">- `-m tran`: this tells BUSCO that the inputs are transcripts (rather than protein or genomic data). \n",
    ">- `-c 14`: this tells BUSCO to use 14 CPUs\n",
    ">\n",
    "> This should take about **22 minutes**\n",
    "\n"
   ]
  },
  {
   "cell_type": "code",
   "execution_count": 4,
   "id": "400d3a6b-6d07-4483-8a57-6d795c4eb602",
   "metadata": {},
   "outputs": [
    {
     "data": {
      "image/jpeg": "[encoded data removed]",
      "text/html": [
       "\n",
       "        <iframe\n",
       "            width=\"800\"\n",
       "            height=\"400\"\n",
       "            src=\"https://www.youtube.com/embed/D95mFnIjRo4\"\n",
       "            frameborder=\"0\"\n",
       "            allowfullscreen\n",
       "            \n",
       "        ></iframe>\n",
       "        "
      ],
      "text/plain": [
       "<IPython.lib.display.YouTubeVideo at 0x7f715d505010>"
      ]
     },
     "execution_count": 4,
     "metadata": {},
     "output_type": "execute_result"
    }
   ],
   "source": [
    "#Run the command below to watch the video\n",
    "from IPython.display import YouTubeVideo\n",
    "\n",
    "YouTubeVideo('D95mFnIjRo4', width=800, height=400)"
   ]
  },
  {
   "cell_type": "code",
   "execution_count": 5,
   "id": "82296cfb-cddb-4325-a8a6-ab3eea8fdfbd",
   "metadata": {},
   "outputs": [
    {
     "name": "stdout",
     "output_type": "stream",
     "text": [
      "3\n"
     ]
    }
   ],
   "source": [
    "numthreads=!lscpu | grep '^CPU(s)'| awk '{print $2-1}'\n",
    "THREADS = int(numthreads[0])\n",
    "! echo $THREADS"
   ]
  },
  {
   "cell_type": "code",
   "execution_count": 7,
   "id": "83d031c6-6a25-46fc-b041-e69e92fdb20b",
   "metadata": {},
   "outputs": [
    {
     "name": "stdout",
     "output_type": "stream",
     "text": [
      "2025-04-24 22:06:27 INFO:\t***** Start a BUSCO v5.4.3 analysis, current time: 04/24/2025 22:06:27 *****\n",
      "2025-04-24 22:06:27 INFO:\tConfiguring BUSCO with local environment\n",
      "2025-04-24 22:06:27 INFO:\tMode is transcriptome\n",
      "2025-04-24 22:06:27 INFO:\tDownloading information on latest versions of BUSCO data...\n",
      "2025-04-24 22:06:30 INFO:\tInput file is /home/ec2-user/SageMaker/Transcriptome-Assembly-Refinement-and-Applications/AWS/resources/trans/Oncorhynchus_mykiss_GGBN01.1.fa\n",
      "2025-04-24 22:06:30 INFO:\tDownloading file 'https://busco-data.ezlab.org/v5/data/lineages/vertebrata_odb10.2024-01-08.tar.gz'\n",
      "2025-04-24 22:06:40 INFO:\tDecompressing file '/busco_downloads/lineages/vertebrata_odb10.tar.gz'\n",
      "2025-04-24 22:06:52 INFO:\tRunning BUSCO using lineage dataset vertebrata_odb10 (eukaryota, 2024-01-08)\n",
      "2025-04-24 22:06:54 INFO:\tRunning 1 job(s) on metaeuk, starting at 04/24/2025 22:06:54\n",
      "2025-04-24 22:18:26 INFO:\t[metaeuk]\t1 of 1 task(s) completed\n",
      "2025-04-24 22:18:26 INFO:\t***** Run HMMER on gene sequences *****\n",
      "2025-04-24 22:18:26 INFO:\tRunning 3354 job(s) on hmmsearch, starting at 04/24/2025 22:18:26\n",
      "2025-04-24 22:18:28 INFO:\t[hmmsearch]\t336 of 3354 task(s) completed\n",
      "2025-04-24 22:18:31 INFO:\t[hmmsearch]\t1007 of 3354 task(s) completed\n",
      "2025-04-24 22:18:33 INFO:\t[hmmsearch]\t1342 of 3354 task(s) completed\n",
      "2025-04-24 22:18:34 INFO:\t[hmmsearch]\t1677 of 3354 task(s) completed\n",
      "2025-04-24 22:18:36 INFO:\t[hmmsearch]\t2013 of 3354 task(s) completed\n",
      "2025-04-24 22:18:37 INFO:\t[hmmsearch]\t2348 of 3354 task(s) completed\n",
      "2025-04-24 22:18:38 INFO:\t[hmmsearch]\t2684 of 3354 task(s) completed\n",
      "2025-04-24 22:18:40 INFO:\t[hmmsearch]\t3019 of 3354 task(s) completed\n",
      "2025-04-24 22:18:43 INFO:\t[hmmsearch]\t3354 of 3354 task(s) completed\n",
      "2025-04-24 22:18:45 INFO:\tExtracting missing and fragmented buscos from the file refseq_db.faa...\n",
      "2025-04-24 22:20:48 INFO:\tRunning 1 job(s) on metaeuk, starting at 04/24/2025 22:20:48\n",
      "2025-04-24 23:00:21 INFO:\t[metaeuk]\t1 of 1 task(s) completed\n",
      "2025-04-24 23:00:21 INFO:\t***** Run HMMER on gene sequences *****\n",
      "2025-04-24 23:00:21 INFO:\tRunning 3354 job(s) on hmmsearch, starting at 04/24/2025 23:00:21\n",
      "2025-04-24 23:00:25 INFO:\t[hmmsearch]\t336 of 3354 task(s) completed\n",
      "2025-04-24 23:00:27 INFO:\t[hmmsearch]\t671 of 3354 task(s) completed\n",
      "2025-04-24 23:00:29 INFO:\t[hmmsearch]\t1007 of 3354 task(s) completed\n",
      "2025-04-24 23:00:31 INFO:\t[hmmsearch]\t1342 of 3354 task(s) completed\n",
      "2025-04-24 23:00:33 INFO:\t[hmmsearch]\t1677 of 3354 task(s) completed\n",
      "2025-04-24 23:00:35 INFO:\t[hmmsearch]\t2013 of 3354 task(s) completed\n",
      "2025-04-24 23:00:36 INFO:\t[hmmsearch]\t2348 of 3354 task(s) completed\n",
      "2025-04-24 23:00:38 INFO:\t[hmmsearch]\t2684 of 3354 task(s) completed\n",
      "2025-04-24 23:00:40 INFO:\t[hmmsearch]\t3019 of 3354 task(s) completed\n",
      "2025-04-24 23:00:42 INFO:\t[hmmsearch]\t3354 of 3354 task(s) completed\n",
      "2025-04-24 23:00:44 INFO:\tResults:\tC:0.0%[S:0.0%,D:0.0%],F:0.0%,M:100.0%,n:3354\t   \n",
      "\n",
      "2025-04-24 23:00:44 INFO:\t\n",
      "\n",
      "\t--------------------------------------------------\n",
      "\t|Results from dataset vertebrata_odb10            |\n",
      "\t--------------------------------------------------\n",
      "\t|C:0.0%[S:0.0%,D:0.0%],F:0.0%,M:100.0%,n:3354     |\n",
      "\t|0\tComplete BUSCOs (C)                       |\n",
      "\t|0\tComplete and single-copy BUSCOs (S)       |\n",
      "\t|0\tComplete and duplicated BUSCOs (D)        |\n",
      "\t|1\tFragmented BUSCOs (F)                     |\n",
      "\t|3353\tMissing BUSCOs (M)                        |\n",
      "\t|3354\tTotal BUSCO groups searched               |\n",
      "\t--------------------------------------------------\n",
      "2025-04-24 23:00:44 INFO:\tBUSCO analysis done. Total running time: 3254 seconds\n",
      "2025-04-24 23:00:44 INFO:\tResults written in /home/jupyter/buscoOutput/GGBN01_busco_vertebrata\n",
      "2025-04-24 23:00:44 INFO:\tFor assistance with interpreting the results, please consult the userguide: https://busco.ezlab.org/busco_userguide.html\n",
      "\n",
      "2025-04-24 23:00:44 INFO:\tVisit this page https://gitlab.com/ezlab/busco#how-to-cite-busco to see how to cite BUSCO\n"
     ]
    }
   ],
   "source": [
    "! docker run -it --rm --volume /home:/home quay.io/biocontainers/busco:5.4.3--pyhdfd78af_0 busco \\\n",
    "-i /home/ec2-user/SageMaker/Transcriptome-Assembly-Refinement-and-Applications/AWS/resources/trans/Oncorhynchus_mykiss_GGBN01.1.fa \\\n",
    "-l vertebrata_odb10 -o GGBN01_busco_vertebrata \\\n",
    "--out_path /home/jupyter/buscoOutput -m tran -c $THREADS"
   ]
  },
  {
   "cell_type": "markdown",
   "id": "fef3d8cb-2cb2-4522-89b6-4f102ad4658f",
   "metadata": {},
   "source": [
    "**Step 10:** Look at the output."
   ]
  },
  {
   "cell_type": "code",
   "execution_count": null,
   "id": "eccbb15e-b08b-48a6-8acc-f450fc98152f",
   "metadata": {},
   "outputs": [],
   "source": [
    "!ls ./buscoOutput/GGBN01_busco_vertebrata"
   ]
  },
  {
   "cell_type": "markdown",
   "id": "3d9da3fe-ca2c-41f7-9af9-7384c5688a47",
   "metadata": {},
   "source": [
    "<div class=\"alert alert-block alert-warning\">\n",
    "    <i class=\"fa fa-pencil\" aria-hidden=\"true\"></i>\n",
    "    <b>Checkpoint 1:</b> Interpret The Results \n",
    "</div>\n",
    "\n",
    "> Consider the following result files:\n",
    "> - The BUSCO result `./buscoOutput/GGBN01_busco_vertebrata/short_summary.specific.vertebrata_odb10.GGBN01_busco_vertebrata.txt`\n",
    "> - The GO stats result `./onlyAnnRun/output/stats/Oncorhynchus_mykiss_GGBN01.sum_GO.txt`\n",
    "> - The TransDecoder stats result: `./onlyAnnRun/output/stats/Oncorhynchus_mykiss_GGBN01.sum_transdecoder.txt`\n",
    "\n",
    "*The green cards below are interactive. Spend some time to consider the question and click on the card to check your answer.*"
   ]
  },
  {
   "cell_type": "code",
   "execution_count": null,
   "id": "bd07364c-507a-4408-a5c5-bd865869c9d2",
   "metadata": {},
   "outputs": [],
   "source": [
    "! pip install jupytercards"
   ]
  },
  {
   "cell_type": "code",
   "execution_count": null,
   "id": "3721adc8-08ff-4b35-b994-1d18e61e7a91",
   "metadata": {},
   "outputs": [],
   "source": [
    "from jupytercards import display_flashcards\n",
    "display_flashcards('../quiz-material/03-cp1-1.json')"
   ]
  },
  {
   "cell_type": "markdown",
   "id": "0028ed80-7227-49ee-b4e1-c123ae5bdfda",
   "metadata": {},
   "source": [
    "> Now let's take a look at where the data came from... Consider the abstract of the [Al-Tobasel et al.](https://www.ncbi.nlm.nih.gov/pmc/articles/PMC4764514/) paper published from this data.\n",
    ">\n",
    ">>*The ENCODE project revealed that ~70% of the human genome is transcribed. While only 1–2% of the RNAs encode for proteins, the rest are non-coding RNAs. Long non-coding RNAs (lncRNAs) form a diverse class of non-coding RNAs that are longer than 200nt. Emerging evidence indicates that lncRNAs play critical roles in various cellular processes including regulation of gene expression. LncRNAs show low levels of gene expression and sequence conservation, which make their computational identification in genomes difficult. In this study, more than two billion Illumina sequence reads were mapped to the genome reference using the TopHat and Cufflinks software. Transcripts shorter than 200nt, with more than 83–100 amino acids ORF, or with significant homologies to the NCBI nr-protein database were removed. In addition, a computational pipeline was used to filter the remaining transcripts based on a protein-coding-score test. Depending on the filtering stringency conditions, between 31,195 and 54,503 lncRNAs were identified, with only 421 matching known lncRNAs in other species. A digital gene expression atlas revealed 2,935 tissue-specific and 3,269 ubiquitously-expressed lncRNAs. This study annotates the lncRNA rainbow trout genome and provides a valuable resource for functional genomics research in salmonids.*"
   ]
  },
  {
   "cell_type": "code",
   "execution_count": null,
   "id": "3654ccf7-de98-443a-9dd2-6563767a4be5",
   "metadata": {},
   "outputs": [],
   "source": [
    "display_flashcards('../quiz-material/03-cp1-2.json')"
   ]
  },
  {
   "cell_type": "markdown",
   "id": "7954beff-d647-4a1c-9b21-ad05e4fa16c3",
   "metadata": {},
   "source": [
    ">**The key takeaway is to always be mindful of the data you are using before performing analysis on it.**"
   ]
  },
  {
   "cell_type": "markdown",
   "id": "17554548-3d09-4984-8ebe-4a6b26a744a1",
   "metadata": {},
   "source": [
    "**Step 11:** Now let's try with one of the other transcriptomes that we downloaded from the NCBI Transcriptome Shotgun Assembly archive.\n",
    "> This should take about **30 minutes**"
   ]
  },
  {
   "cell_type": "code",
   "execution_count": null,
   "id": "684820c8-ee9f-495d-8476-9f25eaa02d43",
   "metadata": {},
   "outputs": [
    {
     "name": "stdout",
     "output_type": "stream",
     "text": [
      "2025-04-24 23:00:47 INFO:\t***** Start a BUSCO v5.4.3 analysis, current time: 04/24/2025 23:00:47 *****\n",
      "2025-04-24 23:00:47 INFO:\tConfiguring BUSCO with local environment\n",
      "2025-04-24 23:00:47 INFO:\tMode is transcriptome\n",
      "2025-04-24 23:00:47 INFO:\tDownloading information on latest versions of BUSCO data...\n",
      "2025-04-24 23:00:50 INFO:\tInput file is /home/ec2-user/SageMaker/Transcriptome-Assembly-Refinement-and-Applications/AWS/resources/trans/Pseudacris_regilla_GAEI01.1.fa\n",
      "2025-04-24 23:00:50 INFO:\tDownloading file 'https://busco-data.ezlab.org/v5/data/lineages/vertebrata_odb10.2024-01-08.tar.gz'\n",
      "2025-04-24 23:01:00 INFO:\tDecompressing file '/busco_downloads/lineages/vertebrata_odb10.tar.gz'\n",
      "2025-04-24 23:01:12 INFO:\tRunning BUSCO using lineage dataset vertebrata_odb10 (eukaryota, 2024-01-08)\n",
      "2025-04-24 23:01:14 INFO:\tRunning 1 job(s) on metaeuk, starting at 04/24/2025 23:01:14\n"
     ]
    }
   ],
   "source": [
    "!docker run -it --rm --volume /home:/home quay.io/biocontainers/busco:5.4.3--pyhdfd78af_0 busco \\\n",
    "    -i /home/ec2-user/SageMaker/Transcriptome-Assembly-Refinement-and-Applications/AWS/resources/trans/Pseudacris_regilla_GAEI01.1.fa \\\n",
    "    -l vertebrata_odb10 -o GAEI01_busco_vertebrata \\\n",
    "    --out_path /home/ec2-user/SageMaker/Transcriptome-Assembly-Refinement-and-Applications/AWS/buscoOutpu -m tran -c $THREADS"
   ]
  },
  {
   "cell_type": "markdown",
   "id": "71b26cfb-9f5f-45a5-8466-7e94110c480d",
   "metadata": {},
   "source": [
    "<div class=\"alert alert-block alert-warning\">\n",
    "    <i class=\"fa fa-pencil\" aria-hidden=\"true\"></i>\n",
    "    <b>Checkpoint 2:</b> Your turn to run a BUSCO analysis \n",
    "</div>\n",
    "\n",
    ">For this checkpoint, you will run another BUSCO analysis, however, this time you will write your own execution command. For the transcriptome used, you have two options:\n",
    ">1. Within the directory that we have been using for the previous two BUSCO runs, `./resources/trans`, there is one more assembled transcriptome named `Microcaecilia_dermatophaga_GFOE01.1.fa`.\n",
    ">2. Go onto the NCBI Transcriptome Shotgun Assembly archive, find your own complete, assembled transcriptome, and use that.\n",
    ">    - If you download the file onto your local computer, there is an upload button (up arrow) in the top left of the Jupyter interface where you can upload the file.\n",
    ">    - If the file you have uploaded is zipped, you will need to unzip it using the following commands: (make sure that the file name after the `>` has the `.fa` extension.)\n",
    ">```python\n",
    "        !gzip -d -c ./PATH/TO/FILE.fsa_nt.gz > ./PATH/TO/FILE.1.fa\n",
    "        !rm ./PATH/TO/FILE.fsa_nt.gz\n",
    ">```\n",
    "> Additionally, consider trying a different lineage (`-l` selection). EZlab, the creators of BUSCO, have produced a large selection of lineages to choose from. Each one has a different set of genes that BUSCO looks for. If you decide to try a different lineage, it is recommended to choose a lineage that falls somewhere within the same family. (e.g., Don't choose the `primates_odb10` lineage if you are choosing to use a bullfrog transcriptome.)\n",
    ">```python\n",
    "        # This will be a complete list of the available datasets\n",
    "        !docker run -it --rm --volume /home:/home quay.io/biocontainers/busco:5.4.3--pyhdfd78af_0 busco --list-datasets\n",
    ">```\n",
    "> Feel free to reference the commands for the previous BUSCO runs and the help command we ran earlier if you are stuck. Additionally, feel free to check out the [BUSCO user guide](https://busco.ezlab.org/busco_userguide.html).\n",
    ">\n",
    ">After the run has been complete, consider the following:\n",
    ">1. How did BUSCO perform on this transcriptome? Does the transcriptome appear to be well assembled based on the provided lineage? If the results are not good, consider the possible reasons why? Is it more likely that the transcriptome chosen was not good? Or potentially a poorly chosen lineage? Or maybe something else entirely?\n",
    ">2. What could be a logical biological reason the output says that there are duplicate copies of the same gene?\n",
    ">3. What could be a possible reason for fragmented copies?\n",
    ">4. Why is it that broader lineages such as metazoa have far fewer genes (954) that BUSCO looks for compared to more specific lineages such as mammalia which has far more genes (9226) that BUSCO looks for?"
   ]
  },
  {
   "cell_type": "code",
   "execution_count": null,
   "id": "57a46ef9-5459-4302-9a34-bf92528c9d9c",
   "metadata": {},
   "outputs": [],
   "source": [
    "# Put your BUSCO command here\n"
   ]
  },
  {
   "cell_type": "markdown",
   "id": "68cfd48a",
   "metadata": {},
   "source": [
    "## Conclusion\n",
    "\n",
    "This Jupyter Notebook demonstrated the \"annotation only\" run of TransPi, utilizing a pre-assembled transcriptome of *Oncorhynchus mykiss* (Rainbow Trout) containing 31,176 transcripts.  By modifying the `nextflow.config` file and leveraging the `--onlyAnn` option, we efficiently performed annotation steps, including Pfam and BLAST analyses, without repeating the assembly process.  Furthermore, the notebook introduced the concept of Docker containers, showcasing their use in executing BUSCO analysis for assessing transcriptome completeness.  The practical application of BUSCO, along with interpretation of the resulting output files (including GO stats and TransDecoder statistics), emphasized the importance of data context and critical evaluation of transcriptome assembly quality.  Finally, the notebook concluded with a hands-on exercise, prompting users to perform their own BUSCO analysis on a different transcriptome, fostering a deeper understanding of the workflow and its applications."
   ]
  },
  {
   "cell_type": "markdown",
   "id": "5bc80021",
   "metadata": {},
   "source": [
    "## Clean Up\n",
    "\n",
    "Remember to proceed to the next notebook [`Submodule_04_gls_assembly.ipynb`](Submodule_04_gls_assembly.ipynb) or shut down your instance if you are finished."
   ]
  }
 ],
 "metadata": {
  "kernelspec": {
   "display_name": "conda_nextflow",
   "language": "python",
   "name": "conda_nextflow"
  },
  "language_info": {
   "codemirror_mode": {
    "name": "ipython",
    "version": 3
   },
   "file_extension": ".py",
   "mimetype": "text/x-python",
   "name": "python",
   "nbconvert_exporter": "python",
   "pygments_lexer": "ipython3",
   "version": "3.13.3"
  }
 },
 "nbformat": 4,
 "nbformat_minor": 5
}
